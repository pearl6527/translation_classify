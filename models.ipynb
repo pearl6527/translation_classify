{
 "cells": [
  {
   "cell_type": "code",
   "execution_count": 1,
   "metadata": {},
   "outputs": [],
   "source": [
    "from sklearn import model_selection, preprocessing, linear_model, naive_bayes, metrics, svm\n",
    "from sklearn.feature_extraction.text import TfidfVectorizer, CountVectorizer\n",
    "from sklearn import decomposition, ensemble\n",
    "from collections import defaultdict\n",
    "import numpy as np\n",
    "import pandas as pd\n",
    "import nltk, re, pprint, string\n",
    "from nltk import word_tokenize, sent_tokenize\n",
    "from nltk.corpus import stopwords\n",
    "stop_words = set(stopwords.words('english'))"
   ]
  },
  {
   "cell_type": "code",
   "execution_count": 2,
   "metadata": {},
   "outputs": [],
   "source": [
    "from models_util import build_info_lists, plot_confusion_matrix"
   ]
  },
  {
   "cell_type": "markdown",
   "metadata": {},
   "source": [
    "## Prof Frank's suggestions\n",
    "\n",
    "* the effectiveness of lexical features (e.g., unigrams or n-grams)\n",
    "* grammatical features (e.g., POS unigrams or n-grams -- you could use an existing POS tagger to get data for that)\n",
    "* other text properties (sentence length, punctuation usage, average word length, average word frequency, etc.)\n",
    "\n",
    "Also, you could imagine looking both at the probabilities assigned by a pre-trained language model to your text as well as the distribution of probabilities for the words (if e.g., you use a bigram model, you could look at the properties of the distribution of bigram probabilities)."
   ]
  },
  {
   "cell_type": "code",
   "execution_count": 3,
   "metadata": {},
   "outputs": [],
   "source": [
    "punct = string.punctuation +'“'+'”'+'-'+'’'+'‘'+'—'+'–'"
   ]
  },
  {
   "cell_type": "markdown",
   "metadata": {},
   "source": [
    "## Reading in data & constructing dataframe"
   ]
  },
  {
   "cell_type": "code",
   "execution_count": 4,
   "metadata": {},
   "outputs": [],
   "source": [
    "categs = []             # 'translation' or 'english'\n",
    "texts = []              # actual text content\n",
    "avg_sent_len = []       # average sentence length\n",
    "avg_word_len = []       # average word length\n",
    "stops = []              # percentage of stopwords\n",
    "f = []\n",
    "entities = []\n",
    "\n",
    "trainDF = pd.DataFrame()"
   ]
  },
  {
   "cell_type": "code",
   "execution_count": 5,
   "metadata": {},
   "outputs": [],
   "source": [
    "# translated texts\n",
    "build_info_lists(categs, texts, avg_sent_len, avg_word_len, stops, \"translation\", f, 100) #, entities)\n",
    "\n",
    "# english texts\n",
    "build_info_lists(categs, texts, avg_sent_len, avg_word_len, stops, \"english\", f, 83) #, entities)"
   ]
  },
  {
   "cell_type": "code",
   "execution_count": 6,
   "metadata": {},
   "outputs": [],
   "source": [
    "# store in dataframe\n",
    "trainDF['file'] = f\n",
    "trainDF['text'] = texts\n",
    "trainDF['categ'] = categs\n",
    "trainDF['avg_sent'] = avg_sent_len\n",
    "trainDF['avg_word'] = avg_word_len\n",
    "trainDF['stopwords'] = stops\n",
    "# trainDF['entities'] = entities"
   ]
  },
  {
   "cell_type": "code",
   "execution_count": 7,
   "metadata": {},
   "outputs": [],
   "source": [
    "# TRANSFORM THE CATEGORICAL VARIABLE INTO A NUMERIC LABEL\n",
    "# cat = pd.get_dummies(trainDF.categ)\n",
    "# trainDF = pd.concat([trainDF, cat], axis=1)\n",
    "trainDF['label'] = trainDF['categ'].apply(lambda x: 0 if x == \"english\" else 1)"
   ]
  },
  {
   "cell_type": "code",
   "execution_count": 8,
   "metadata": {},
   "outputs": [
    {
     "data": {
      "text/html": [
       "<div>\n",
       "<style scoped>\n",
       "    .dataframe tbody tr th:only-of-type {\n",
       "        vertical-align: middle;\n",
       "    }\n",
       "\n",
       "    .dataframe tbody tr th {\n",
       "        vertical-align: top;\n",
       "    }\n",
       "\n",
       "    .dataframe thead th {\n",
       "        text-align: right;\n",
       "    }\n",
       "</style>\n",
       "<table border=\"1\" class=\"dataframe\">\n",
       "  <thead>\n",
       "    <tr style=\"text-align: right;\">\n",
       "      <th></th>\n",
       "      <th>file</th>\n",
       "      <th>text</th>\n",
       "      <th>categ</th>\n",
       "      <th>avg_sent</th>\n",
       "      <th>avg_word</th>\n",
       "      <th>stopwords</th>\n",
       "      <th>label</th>\n",
       "    </tr>\n",
       "  </thead>\n",
       "  <tbody>\n",
       "    <tr>\n",
       "      <th>0</th>\n",
       "      <td>translation_1</td>\n",
       "      <td>I keep a keen eye on the development of Russia...</td>\n",
       "      <td>translation</td>\n",
       "      <td>17.544118</td>\n",
       "      <td>4.403185</td>\n",
       "      <td>0.564124</td>\n",
       "      <td>1</td>\n",
       "    </tr>\n",
       "    <tr>\n",
       "      <th>1</th>\n",
       "      <td>translation_2</td>\n",
       "      <td>A serious scandal has erupted around John Kerr...</td>\n",
       "      <td>translation</td>\n",
       "      <td>21.293333</td>\n",
       "      <td>4.984346</td>\n",
       "      <td>0.482780</td>\n",
       "      <td>1</td>\n",
       "    </tr>\n",
       "    <tr>\n",
       "      <th>2</th>\n",
       "      <td>translation_3</td>\n",
       "      <td>Arms trafficking from the U.S. to Mexico has g...</td>\n",
       "      <td>translation</td>\n",
       "      <td>24.625000</td>\n",
       "      <td>4.840102</td>\n",
       "      <td>0.472081</td>\n",
       "      <td>1</td>\n",
       "    </tr>\n",
       "    <tr>\n",
       "      <th>3</th>\n",
       "      <td>translation_4</td>\n",
       "      <td>Joe Biden has just officially recognized the A...</td>\n",
       "      <td>translation</td>\n",
       "      <td>33.611111</td>\n",
       "      <td>5.084298</td>\n",
       "      <td>0.480992</td>\n",
       "      <td>1</td>\n",
       "    </tr>\n",
       "    <tr>\n",
       "      <th>4</th>\n",
       "      <td>translation_5</td>\n",
       "      <td>Prime Minister Yoshihide Suga will meet U.S. P...</td>\n",
       "      <td>translation</td>\n",
       "      <td>18.240000</td>\n",
       "      <td>4.964912</td>\n",
       "      <td>0.423246</td>\n",
       "      <td>1</td>\n",
       "    </tr>\n",
       "    <tr>\n",
       "      <th>...</th>\n",
       "      <td>...</td>\n",
       "      <td>...</td>\n",
       "      <td>...</td>\n",
       "      <td>...</td>\n",
       "      <td>...</td>\n",
       "      <td>...</td>\n",
       "      <td>...</td>\n",
       "    </tr>\n",
       "    <tr>\n",
       "      <th>178</th>\n",
       "      <td>english_79</td>\n",
       "      <td>US President Joe Biden is not moving quickly t...</td>\n",
       "      <td>english</td>\n",
       "      <td>17.454545</td>\n",
       "      <td>4.880208</td>\n",
       "      <td>0.466146</td>\n",
       "      <td>0</td>\n",
       "    </tr>\n",
       "    <tr>\n",
       "      <th>179</th>\n",
       "      <td>english_80</td>\n",
       "      <td>A senior US delegation is visiting the Middle ...</td>\n",
       "      <td>english</td>\n",
       "      <td>22.000000</td>\n",
       "      <td>5.038462</td>\n",
       "      <td>0.411422</td>\n",
       "      <td>0</td>\n",
       "    </tr>\n",
       "    <tr>\n",
       "      <th>180</th>\n",
       "      <td>english_81</td>\n",
       "      <td>US Secretary of State Antony Blinken delivered...</td>\n",
       "      <td>english</td>\n",
       "      <td>20.945946</td>\n",
       "      <td>4.971613</td>\n",
       "      <td>0.470968</td>\n",
       "      <td>0</td>\n",
       "    </tr>\n",
       "    <tr>\n",
       "      <th>181</th>\n",
       "      <td>english_82</td>\n",
       "      <td>U.S. President Joe Biden recognized the 1915 e...</td>\n",
       "      <td>english</td>\n",
       "      <td>20.446809</td>\n",
       "      <td>5.002081</td>\n",
       "      <td>0.463059</td>\n",
       "      <td>0</td>\n",
       "    </tr>\n",
       "    <tr>\n",
       "      <th>182</th>\n",
       "      <td>english_83</td>\n",
       "      <td>The Biden administration is likely to maintain...</td>\n",
       "      <td>english</td>\n",
       "      <td>24.216216</td>\n",
       "      <td>5.196429</td>\n",
       "      <td>0.389509</td>\n",
       "      <td>0</td>\n",
       "    </tr>\n",
       "  </tbody>\n",
       "</table>\n",
       "<p>183 rows × 7 columns</p>\n",
       "</div>"
      ],
      "text/plain": [
       "              file                                               text  \\\n",
       "0    translation_1  I keep a keen eye on the development of Russia...   \n",
       "1    translation_2  A serious scandal has erupted around John Kerr...   \n",
       "2    translation_3  Arms trafficking from the U.S. to Mexico has g...   \n",
       "3    translation_4  Joe Biden has just officially recognized the A...   \n",
       "4    translation_5  Prime Minister Yoshihide Suga will meet U.S. P...   \n",
       "..             ...                                                ...   \n",
       "178     english_79  US President Joe Biden is not moving quickly t...   \n",
       "179     english_80  A senior US delegation is visiting the Middle ...   \n",
       "180     english_81  US Secretary of State Antony Blinken delivered...   \n",
       "181     english_82  U.S. President Joe Biden recognized the 1915 e...   \n",
       "182     english_83  The Biden administration is likely to maintain...   \n",
       "\n",
       "           categ   avg_sent  avg_word  stopwords  label  \n",
       "0    translation  17.544118  4.403185   0.564124      1  \n",
       "1    translation  21.293333  4.984346   0.482780      1  \n",
       "2    translation  24.625000  4.840102   0.472081      1  \n",
       "3    translation  33.611111  5.084298   0.480992      1  \n",
       "4    translation  18.240000  4.964912   0.423246      1  \n",
       "..           ...        ...       ...        ...    ...  \n",
       "178      english  17.454545  4.880208   0.466146      0  \n",
       "179      english  22.000000  5.038462   0.411422      0  \n",
       "180      english  20.945946  4.971613   0.470968      0  \n",
       "181      english  20.446809  5.002081   0.463059      0  \n",
       "182      english  24.216216  5.196429   0.389509      0  \n",
       "\n",
       "[183 rows x 7 columns]"
      ]
     },
     "execution_count": 8,
     "metadata": {},
     "output_type": "execute_result"
    }
   ],
   "source": [
    "trainDF"
   ]
  },
  {
   "cell_type": "code",
   "execution_count": 9,
   "metadata": {},
   "outputs": [
    {
     "data": {
      "text/plain": [
       "(183, 7)"
      ]
     },
     "execution_count": 9,
     "metadata": {},
     "output_type": "execute_result"
    }
   ],
   "source": [
    "trainDF.shape"
   ]
  },
  {
   "cell_type": "code",
   "execution_count": 10,
   "metadata": {},
   "outputs": [
    {
     "name": "stdout",
     "output_type": "stream",
     "text": [
      "0.45389072913791717\n",
      "0.4361334759794676\n"
     ]
    },
    {
     "data": {
      "text/plain": [
       "Ttest_indResult(statistic=3.500912474799324, pvalue=0.0005838698156661424)"
      ]
     },
     "execution_count": 10,
     "metadata": {},
     "output_type": "execute_result"
    }
   ],
   "source": [
    "# Random t-test to see if there is a statistically significant difference between\n",
    "# the percentage of stop words in translated vs english texts\n",
    "\n",
    "from scipy.stats import ttest_ind\n",
    "\n",
    "print(trainDF[trainDF['categ'] == \"translation\"]['stopwords'].mean())\n",
    "print(trainDF[trainDF['categ'] == \"english\"]['stopwords'].mean())\n",
    "\n",
    "cat1 = trainDF[trainDF['categ'] == 'translation']\n",
    "cat2 = trainDF[trainDF['categ'] == 'english']\n",
    "\n",
    "ttest_ind(cat1['stopwords'], cat2['stopwords'])"
   ]
  },
  {
   "cell_type": "code",
   "execution_count": 11,
   "metadata": {},
   "outputs": [
    {
     "data": {
      "text/html": [
       "<div>\n",
       "<style scoped>\n",
       "    .dataframe tbody tr th:only-of-type {\n",
       "        vertical-align: middle;\n",
       "    }\n",
       "\n",
       "    .dataframe tbody tr th {\n",
       "        vertical-align: top;\n",
       "    }\n",
       "\n",
       "    .dataframe thead th {\n",
       "        text-align: right;\n",
       "    }\n",
       "</style>\n",
       "<table border=\"1\" class=\"dataframe\">\n",
       "  <thead>\n",
       "    <tr style=\"text-align: right;\">\n",
       "      <th></th>\n",
       "      <th>file</th>\n",
       "      <th>text</th>\n",
       "      <th>avg_sent</th>\n",
       "      <th>avg_word</th>\n",
       "      <th>stopwords</th>\n",
       "    </tr>\n",
       "  </thead>\n",
       "  <tbody>\n",
       "    <tr>\n",
       "      <th>0</th>\n",
       "      <td>translation_1</td>\n",
       "      <td>I keep a keen eye on the development of Russia...</td>\n",
       "      <td>17.544118</td>\n",
       "      <td>4.403185</td>\n",
       "      <td>0.564124</td>\n",
       "    </tr>\n",
       "    <tr>\n",
       "      <th>1</th>\n",
       "      <td>translation_2</td>\n",
       "      <td>A serious scandal has erupted around John Kerr...</td>\n",
       "      <td>21.293333</td>\n",
       "      <td>4.984346</td>\n",
       "      <td>0.482780</td>\n",
       "    </tr>\n",
       "    <tr>\n",
       "      <th>2</th>\n",
       "      <td>translation_3</td>\n",
       "      <td>Arms trafficking from the U.S. to Mexico has g...</td>\n",
       "      <td>24.625000</td>\n",
       "      <td>4.840102</td>\n",
       "      <td>0.472081</td>\n",
       "    </tr>\n",
       "    <tr>\n",
       "      <th>3</th>\n",
       "      <td>translation_4</td>\n",
       "      <td>Joe Biden has just officially recognized the A...</td>\n",
       "      <td>33.611111</td>\n",
       "      <td>5.084298</td>\n",
       "      <td>0.480992</td>\n",
       "    </tr>\n",
       "    <tr>\n",
       "      <th>4</th>\n",
       "      <td>translation_5</td>\n",
       "      <td>Prime Minister Yoshihide Suga will meet U.S. P...</td>\n",
       "      <td>18.240000</td>\n",
       "      <td>4.964912</td>\n",
       "      <td>0.423246</td>\n",
       "    </tr>\n",
       "    <tr>\n",
       "      <th>...</th>\n",
       "      <td>...</td>\n",
       "      <td>...</td>\n",
       "      <td>...</td>\n",
       "      <td>...</td>\n",
       "      <td>...</td>\n",
       "    </tr>\n",
       "    <tr>\n",
       "      <th>178</th>\n",
       "      <td>english_79</td>\n",
       "      <td>US President Joe Biden is not moving quickly t...</td>\n",
       "      <td>17.454545</td>\n",
       "      <td>4.880208</td>\n",
       "      <td>0.466146</td>\n",
       "    </tr>\n",
       "    <tr>\n",
       "      <th>179</th>\n",
       "      <td>english_80</td>\n",
       "      <td>A senior US delegation is visiting the Middle ...</td>\n",
       "      <td>22.000000</td>\n",
       "      <td>5.038462</td>\n",
       "      <td>0.411422</td>\n",
       "    </tr>\n",
       "    <tr>\n",
       "      <th>180</th>\n",
       "      <td>english_81</td>\n",
       "      <td>US Secretary of State Antony Blinken delivered...</td>\n",
       "      <td>20.945946</td>\n",
       "      <td>4.971613</td>\n",
       "      <td>0.470968</td>\n",
       "    </tr>\n",
       "    <tr>\n",
       "      <th>181</th>\n",
       "      <td>english_82</td>\n",
       "      <td>U.S. President Joe Biden recognized the 1915 e...</td>\n",
       "      <td>20.446809</td>\n",
       "      <td>5.002081</td>\n",
       "      <td>0.463059</td>\n",
       "    </tr>\n",
       "    <tr>\n",
       "      <th>182</th>\n",
       "      <td>english_83</td>\n",
       "      <td>The Biden administration is likely to maintain...</td>\n",
       "      <td>24.216216</td>\n",
       "      <td>5.196429</td>\n",
       "      <td>0.389509</td>\n",
       "    </tr>\n",
       "  </tbody>\n",
       "</table>\n",
       "<p>183 rows × 5 columns</p>\n",
       "</div>"
      ],
      "text/plain": [
       "              file                                               text  \\\n",
       "0    translation_1  I keep a keen eye on the development of Russia...   \n",
       "1    translation_2  A serious scandal has erupted around John Kerr...   \n",
       "2    translation_3  Arms trafficking from the U.S. to Mexico has g...   \n",
       "3    translation_4  Joe Biden has just officially recognized the A...   \n",
       "4    translation_5  Prime Minister Yoshihide Suga will meet U.S. P...   \n",
       "..             ...                                                ...   \n",
       "178     english_79  US President Joe Biden is not moving quickly t...   \n",
       "179     english_80  A senior US delegation is visiting the Middle ...   \n",
       "180     english_81  US Secretary of State Antony Blinken delivered...   \n",
       "181     english_82  U.S. President Joe Biden recognized the 1915 e...   \n",
       "182     english_83  The Biden administration is likely to maintain...   \n",
       "\n",
       "      avg_sent  avg_word  stopwords  \n",
       "0    17.544118  4.403185   0.564124  \n",
       "1    21.293333  4.984346   0.482780  \n",
       "2    24.625000  4.840102   0.472081  \n",
       "3    33.611111  5.084298   0.480992  \n",
       "4    18.240000  4.964912   0.423246  \n",
       "..         ...       ...        ...  \n",
       "178  17.454545  4.880208   0.466146  \n",
       "179  22.000000  5.038462   0.411422  \n",
       "180  20.945946  4.971613   0.470968  \n",
       "181  20.446809  5.002081   0.463059  \n",
       "182  24.216216  5.196429   0.389509  \n",
       "\n",
       "[183 rows x 5 columns]"
      ]
     },
     "execution_count": 11,
     "metadata": {},
     "output_type": "execute_result"
    }
   ],
   "source": [
    "# make the relevant columns of the dataframe into a feature matrix\n",
    "feat_v = trainDF.drop(['categ', 'label'], axis=1).to_numpy()\n",
    "trainDF.drop(['categ', 'label'], axis=1)"
   ]
  },
  {
   "cell_type": "code",
   "execution_count": 12,
   "metadata": {},
   "outputs": [
    {
     "data": {
      "text/plain": [
       "12054"
      ]
     },
     "execution_count": 12,
     "metadata": {},
     "output_type": "execute_result"
    }
   ],
   "source": [
    "# create a count matrix (bag-of-words / ngram features)\n",
    "\n",
    "# u'((?ui)\\\\b\\\\w*[a-z|\\'|\\’]+\\\\w*\\\\b)'\n",
    "count_vect = CountVectorizer(analyzer='word', token_pattern=r'\\w{1,}', ngram_range=(1, 1))\n",
    "cv = count_vect.fit(trainDF['text'])\n",
    "\n",
    "xtrain_count = count_vect.transform(trainDF['text'])\n",
    "\n",
    "word_v = xtrain_count.toarray()\n",
    "\n",
    "len(cv.vocabulary_)"
   ]
  },
  {
   "cell_type": "code",
   "execution_count": 13,
   "metadata": {},
   "outputs": [],
   "source": [
    "# concatenate these ngram features with the other features we made in the dataframe\n",
    "full_v = np.concatenate((feat_v, word_v), axis=1)"
   ]
  },
  {
   "cell_type": "code",
   "execution_count": 14,
   "metadata": {},
   "outputs": [],
   "source": [
    "# split the examples into train & test (validation) sets\n",
    "# X_train, X_test, y_train, y_test = model_selection.train_test_split(full_v, trainDF['label'], random_state=1)\n",
    "X_train, X_test, y_train, y_test = model_selection.train_test_split(full_v, trainDF['label'], random_state=1)"
   ]
  },
  {
   "cell_type": "code",
   "execution_count": 15,
   "metadata": {},
   "outputs": [
    {
     "data": {
      "text/plain": [
       "(183, 5)"
      ]
     },
     "execution_count": 15,
     "metadata": {},
     "output_type": "execute_result"
    }
   ],
   "source": [
    "feat_v.shape"
   ]
  },
  {
   "cell_type": "markdown",
   "metadata": {},
   "source": [
    "## Multinomial Naive Bayes"
   ]
  },
  {
   "cell_type": "code",
   "execution_count": 16,
   "metadata": {},
   "outputs": [
    {
     "name": "stdout",
     "output_type": "stream",
     "text": [
      "Accuracy score:  0.8695652173913043\n",
      "Precision score:  0.8064516129032258\n",
      "Recall score:  1.0\n"
     ]
    }
   ],
   "source": [
    "# multinomial naive bayes - model is good with unigrams\n",
    "nb = naive_bayes.MultinomialNB()\n",
    "nb.fit(X_train[:, 2:], y_train)\n",
    "predictions = nb.predict(X_test[:, 2:])\n",
    "\n",
    "print('Accuracy score: ', metrics.accuracy_score(y_test, predictions))\n",
    "print('Precision score: ', metrics.precision_score(y_test, predictions))\n",
    "print('Recall score: ', metrics.recall_score(y_test, predictions))"
   ]
  },
  {
   "cell_type": "code",
   "execution_count": 17,
   "metadata": {},
   "outputs": [],
   "source": [
    "# print confusion matrix\n",
    "import matplotlib\n",
    "import matplotlib.pyplot as plt\n",
    "import seaborn as sns"
   ]
  },
  {
   "cell_type": "code",
   "execution_count": 18,
   "metadata": {},
   "outputs": [
    {
     "data": {
      "image/png": "[encoded data removed]",
      "text/plain": [
       "<Figure size 432x432 with 1 Axes>"
      ]
     },
     "metadata": {
      "needs_background": "light"
     },
     "output_type": "display_data"
    }
   ],
   "source": [
    "plot_confusion_matrix(y_test, predictions, \"NB, Unigram\", \"nb_unigrams.png\")"
   ]
  },
  {
   "cell_type": "code",
   "execution_count": 19,
   "metadata": {},
   "outputs": [],
   "source": [
    "testing_predictions = []\n",
    "for i in range(len(X_test)):\n",
    "    if predictions[i] == 1:\n",
    "        testing_predictions.append('translation')\n",
    "    else:\n",
    "        testing_predictions.append('english')\n",
    "check_df = pd.DataFrame({'actual_label': list(y_test), 'prediction': testing_predictions, 'text':list(X_test[:, 1]), 'file':list(X_test[:, 0])})\n",
    "check_df.replace(to_replace=0, value='english', inplace=True)\n",
    "check_df.replace(to_replace=1, value='translation', inplace=True)"
   ]
  },
  {
   "cell_type": "code",
   "execution_count": 20,
   "metadata": {},
   "outputs": [
    {
     "data": {
      "text/html": [
       "<div>\n",
       "<style scoped>\n",
       "    .dataframe tbody tr th:only-of-type {\n",
       "        vertical-align: middle;\n",
       "    }\n",
       "\n",
       "    .dataframe tbody tr th {\n",
       "        vertical-align: top;\n",
       "    }\n",
       "\n",
       "    .dataframe thead th {\n",
       "        text-align: right;\n",
       "    }\n",
       "</style>\n",
       "<table border=\"1\" class=\"dataframe\">\n",
       "  <thead>\n",
       "    <tr style=\"text-align: right;\">\n",
       "      <th></th>\n",
       "      <th>actual_label</th>\n",
       "      <th>prediction</th>\n",
       "      <th>text</th>\n",
       "      <th>file</th>\n",
       "    </tr>\n",
       "  </thead>\n",
       "  <tbody>\n",
       "    <tr>\n",
       "      <th>0</th>\n",
       "      <td>translation</td>\n",
       "      <td>translation</td>\n",
       "      <td>On April 14, a delegation of retired US offici...</td>\n",
       "      <td>translation_54</td>\n",
       "    </tr>\n",
       "    <tr>\n",
       "      <th>1</th>\n",
       "      <td>translation</td>\n",
       "      <td>translation</td>\n",
       "      <td>Joe Biden is preparing to become the 46th pres...</td>\n",
       "      <td>translation_92</td>\n",
       "    </tr>\n",
       "    <tr>\n",
       "      <th>2</th>\n",
       "      <td>english</td>\n",
       "      <td>translation</td>\n",
       "      <td>China specialists in the United States are beg...</td>\n",
       "      <td>english_19</td>\n",
       "    </tr>\n",
       "    <tr>\n",
       "      <th>3</th>\n",
       "      <td>english</td>\n",
       "      <td>translation</td>\n",
       "      <td>US President Joe Biden is not moving quickly t...</td>\n",
       "      <td>english_79</td>\n",
       "    </tr>\n",
       "    <tr>\n",
       "      <th>4</th>\n",
       "      <td>translation</td>\n",
       "      <td>translation</td>\n",
       "      <td>Global corporations played a decisive role in ...</td>\n",
       "      <td>translation_48</td>\n",
       "    </tr>\n",
       "  </tbody>\n",
       "</table>\n",
       "</div>"
      ],
      "text/plain": [
       "  actual_label   prediction  \\\n",
       "0  translation  translation   \n",
       "1  translation  translation   \n",
       "2      english  translation   \n",
       "3      english  translation   \n",
       "4  translation  translation   \n",
       "\n",
       "                                                text            file  \n",
       "0  On April 14, a delegation of retired US offici...  translation_54  \n",
       "1  Joe Biden is preparing to become the 46th pres...  translation_92  \n",
       "2  China specialists in the United States are beg...      english_19  \n",
       "3  US President Joe Biden is not moving quickly t...      english_79  \n",
       "4  Global corporations played a decisive role in ...  translation_48  "
      ]
     },
     "execution_count": 20,
     "metadata": {},
     "output_type": "execute_result"
    }
   ],
   "source": [
    "check_df.head()"
   ]
  },
  {
   "cell_type": "code",
   "execution_count": 21,
   "metadata": {},
   "outputs": [],
   "source": [
    "# df"
   ]
  },
  {
   "cell_type": "code",
   "execution_count": 22,
   "metadata": {},
   "outputs": [],
   "source": [
    "categs = []             # 'translation' or 'english'\n",
    "texts = []              # actual text content\n",
    "avg_sent_len = []       # average sentence length\n",
    "avg_word_len = []       # average word length\n",
    "stops = []              # percentage of stopwords\n",
    "f = []\n",
    "entities = []\n",
    "\n",
    "df = pd.DataFrame()\n",
    "build_info_lists(categs, texts, avg_sent_len, avg_word_len, stops, \"test\", f, 1) #, entities)\n",
    "\n",
    "df['file'] = f\n",
    "df['text'] = texts\n",
    "df['categ'] = categs\n",
    "df['avg_sent'] = avg_sent_len\n",
    "df['avg_word'] = avg_word_len\n",
    "df['stopwords'] = stops\n",
    "# df['entities'] = entities\n",
    "feat_test_v = df.drop(['categ'], axis=1).to_numpy()\n",
    "\n",
    "xtrain_count = count_vect.transform(df['text'])\n",
    "word_test_v = xtrain_count.toarray()\n",
    "\n",
    "test_v = np.concatenate((feat_test_v, word_test_v), axis=1)\n",
    "test_y = [0]\n",
    "\n",
    "predictions = nb.predict(test_v[:, 2:])\n",
    "\n",
    "testing_predictions = []\n",
    "for i in range(len(test_v)):\n",
    "    if predictions[i] == 1:\n",
    "        testing_predictions.append('translation')\n",
    "    else:\n",
    "        testing_predictions.append('english')\n",
    "check_df = pd.DataFrame({'actual_label': list(test_y), 'prediction': testing_predictions, 'text':list(test_v[:, 1]), 'file':list(test_v[:, 0])})\n",
    "check_df.replace(to_replace=0, value='english', inplace=True)\n",
    "check_df.replace(to_replace=1, value='translation', inplace=True)"
   ]
  },
  {
   "cell_type": "code",
   "execution_count": 23,
   "metadata": {
    "scrolled": true
   },
   "outputs": [
    {
     "data": {
      "text/html": [
       "<div>\n",
       "<style scoped>\n",
       "    .dataframe tbody tr th:only-of-type {\n",
       "        vertical-align: middle;\n",
       "    }\n",
       "\n",
       "    .dataframe tbody tr th {\n",
       "        vertical-align: top;\n",
       "    }\n",
       "\n",
       "    .dataframe thead th {\n",
       "        text-align: right;\n",
       "    }\n",
       "</style>\n",
       "<table border=\"1\" class=\"dataframe\">\n",
       "  <thead>\n",
       "    <tr style=\"text-align: right;\">\n",
       "      <th></th>\n",
       "      <th>actual_label</th>\n",
       "      <th>prediction</th>\n",
       "      <th>text</th>\n",
       "      <th>file</th>\n",
       "    </tr>\n",
       "  </thead>\n",
       "  <tbody>\n",
       "    <tr>\n",
       "      <th>0</th>\n",
       "      <td>english</td>\n",
       "      <td>english</td>\n",
       "      <td>Russian President Vladimir Putin is provoking ...</td>\n",
       "      <td>test_1</td>\n",
       "    </tr>\n",
       "  </tbody>\n",
       "</table>\n",
       "</div>"
      ],
      "text/plain": [
       "  actual_label prediction                                               text  \\\n",
       "0      english    english  Russian President Vladimir Putin is provoking ...   \n",
       "\n",
       "     file  \n",
       "0  test_1  "
      ]
     },
     "execution_count": 23,
     "metadata": {},
     "output_type": "execute_result"
    }
   ],
   "source": [
    "check_df"
   ]
  },
  {
   "cell_type": "code",
   "execution_count": null,
   "metadata": {},
   "outputs": [],
   "source": []
  },
  {
   "cell_type": "code",
   "execution_count": 24,
   "metadata": {},
   "outputs": [],
   "source": [
    "# create a count matrix (bag-of-words / ngram features)\n",
    "count_vect = CountVectorizer(analyzer='word', token_pattern=r'\\w{1,}', ngram_range=(1, 1))\n",
    "cv = count_vect.fit(trainDF['text'])\n",
    "xtrain_count = count_vect.transform(trainDF['text'])\n",
    "word_v = xtrain_count.toarray()\n",
    "\n",
    "# tf-idf vectors as features\n",
    "tfidf_vect = TfidfVectorizer(analyzer='word', token_pattern=r'\\w{1,}', max_features=5000, ngram_range=(2, 3))\n",
    "tv = tfidf_vect.fit(trainDF['text'])\n",
    "xtrain_tfidf =  tfidf_vect.transform(trainDF['text'])\n",
    "word_tv = xtrain_tfidf.toarray()\n",
    "\n",
    "# concatenate these ngram features with the other features we made in the dataframe\n",
    "full_v = np.concatenate((feat_v, word_v, word_tv), axis=1)\n",
    "count_ind = feat_v.shape[1]\n",
    "tfidf_ind = count_ind + word_v.shape[1]\n",
    "\n",
    "# split the examples into train & test (validation) sets\n",
    "X_train, X_test, y_train, y_test = model_selection.train_test_split(full_v, trainDF['label'], random_state=1)"
   ]
  },
  {
   "cell_type": "code",
   "execution_count": 25,
   "metadata": {},
   "outputs": [
    {
     "name": "stdout",
     "output_type": "stream",
     "text": [
      "Accuracy score:  0.8695652173913043\n",
      "Precision score:  0.8064516129032258\n",
      "Recall score:  1.0\n"
     ]
    }
   ],
   "source": [
    "nb = naive_bayes.MultinomialNB()\n",
    "nb.fit(X_train[:, 2:tfidf_ind], y_train)\n",
    "predictions = nb.predict(X_test[:, 2:tfidf_ind])\n",
    "print('Accuracy score: ', metrics.accuracy_score(y_test, predictions))\n",
    "print('Precision score: ', metrics.precision_score(y_test, predictions))\n",
    "print('Recall score: ', metrics.recall_score(y_test, predictions))"
   ]
  },
  {
   "cell_type": "code",
   "execution_count": 26,
   "metadata": {},
   "outputs": [
    {
     "data": {
      "text/plain": [
       "Text(0.5, 25.0, 'predicted label')"
      ]
     },
     "execution_count": 26,
     "metadata": {},
     "output_type": "execute_result"
    },
    {
     "data": {
      "image/png": "[encoded data removed]",
      "text/plain": [
       "<Figure size 432x432 with 1 Axes>"
      ]
     },
     "metadata": {
      "needs_background": "light"
     },
     "output_type": "display_data"
    }
   ],
   "source": [
    "cm = metrics.confusion_matrix(y_test, predictions)\n",
    "plt.figure(figsize=(6, 6))\n",
    "matplotlib.rcParams.update({'font.size': 18})\n",
    "\n",
    "sns.heatmap(cm, square=True, annot=True, cmap='RdBu', cbar=False,\n",
    "xticklabels=['english', 'translation'], yticklabels=['english', 'translation'])\n",
    "plt.ylabel('true label')\n",
    "plt.xlabel('predicted label')"
   ]
  },
  {
   "cell_type": "code",
   "execution_count": null,
   "metadata": {},
   "outputs": [],
   "source": []
  },
  {
   "cell_type": "code",
   "execution_count": null,
   "metadata": {},
   "outputs": [],
   "source": []
  },
  {
   "cell_type": "markdown",
   "metadata": {},
   "source": [
    "### TF-IDF"
   ]
  },
  {
   "cell_type": "code",
   "execution_count": 27,
   "metadata": {},
   "outputs": [],
   "source": [
    "# tf-idf vectors as features (doesn't seem to work very well?)\n",
    "tfidf_vect = TfidfVectorizer(analyzer='word', token_pattern=r'\\w{1,}', max_features=5000, ngram_range=(2, 2))  # max_features=5000, \n",
    "tv = tfidf_vect.fit(trainDF['text'])\n",
    "xtrain_tfidf =  tfidf_vect.transform(trainDF['text'])"
   ]
  },
  {
   "cell_type": "code",
   "execution_count": 28,
   "metadata": {},
   "outputs": [
    {
     "data": {
      "text/plain": [
       "5000"
      ]
     },
     "execution_count": 28,
     "metadata": {},
     "output_type": "execute_result"
    }
   ],
   "source": [
    "word_tv = xtrain_tfidf.toarray()\n",
    "len(tv.vocabulary_)"
   ]
  },
  {
   "cell_type": "code",
   "execution_count": 29,
   "metadata": {},
   "outputs": [],
   "source": [
    "full_tv = np.concatenate((feat_v, word_tv), axis=1)"
   ]
  },
  {
   "cell_type": "code",
   "execution_count": 30,
   "metadata": {},
   "outputs": [
    {
     "data": {
      "text/plain": [
       "(183, 5)"
      ]
     },
     "execution_count": 30,
     "metadata": {},
     "output_type": "execute_result"
    }
   ],
   "source": [
    "feat_v.shape"
   ]
  },
  {
   "cell_type": "code",
   "execution_count": 31,
   "metadata": {},
   "outputs": [],
   "source": [
    "X_traint, X_testt, y_traint, y_testt = model_selection.train_test_split(word_tv, trainDF['label'], random_state=1)"
   ]
  },
  {
   "cell_type": "code",
   "execution_count": 32,
   "metadata": {},
   "outputs": [
    {
     "data": {
      "text/plain": [
       "(137, 5003)"
      ]
     },
     "execution_count": 32,
     "metadata": {},
     "output_type": "execute_result"
    }
   ],
   "source": [
    "np.concatenate((X_train[:, 2:count_ind], X_train[:, tfidf_ind:]), axis=1).shape"
   ]
  },
  {
   "cell_type": "code",
   "execution_count": 33,
   "metadata": {
    "scrolled": true
   },
   "outputs": [
    {
     "data": {
      "text/plain": [
       "(46, 5003)"
      ]
     },
     "execution_count": 33,
     "metadata": {},
     "output_type": "execute_result"
    }
   ],
   "source": [
    "np.concatenate((X_test[:, 2:count_ind], X_test[:, tfidf_ind:]), axis=1).shape"
   ]
  },
  {
   "cell_type": "code",
   "execution_count": 34,
   "metadata": {},
   "outputs": [
    {
     "name": "stdout",
     "output_type": "stream",
     "text": [
      "Accuracy score:  0.782608695652174\n",
      "Precision score:  0.7142857142857143\n",
      "Recall score:  1.0\n"
     ]
    }
   ],
   "source": [
    "t_x_train = np.concatenate((X_train[:, 2:count_ind], X_train[:, tfidf_ind:]), axis=1)\n",
    "t_x_test = np.concatenate((X_test[:, 2:count_ind], X_test[:, tfidf_ind:]), axis=1)\n",
    "nb_tfidf = naive_bayes.MultinomialNB()\n",
    "nb_tfidf.fit(X_train[:, tfidf_ind:], y_train)\n",
    "predictions = nb_tfidf.predict(X_test[:, tfidf_ind:])\n",
    "print('Accuracy score: ', metrics.accuracy_score(y_test, predictions))\n",
    "print('Precision score: ', metrics.precision_score(y_test, predictions))\n",
    "print('Recall score: ', metrics.recall_score(y_test, predictions))"
   ]
  },
  {
   "cell_type": "code",
   "execution_count": 35,
   "metadata": {
    "scrolled": true
   },
   "outputs": [
    {
     "data": {
      "text/plain": [
       "Text(0.5, 7.0, 'predicted label')"
      ]
     },
     "execution_count": 35,
     "metadata": {},
     "output_type": "execute_result"
    },
    {
     "data": {
      "image/png": "[encoded data removed]",
      "text/plain": [
       "<Figure size 432x288 with 1 Axes>"
      ]
     },
     "metadata": {
      "needs_background": "light"
     },
     "output_type": "display_data"
    }
   ],
   "source": [
    "cm = metrics.confusion_matrix(y_test, predictions)\n",
    "sns.heatmap(cm, square=True, annot=True, cmap='RdBu', cbar=False,\n",
    "xticklabels=['english', 'translation'], yticklabels=['english', 'translation'])\n",
    "plt.ylabel('true label')\n",
    "plt.xlabel('predicted label')"
   ]
  },
  {
   "cell_type": "code",
   "execution_count": 36,
   "metadata": {},
   "outputs": [
    {
     "data": {
      "text/plain": [
       "array([1, 1, 1, 1, 1, 0, 1, 1, 0, 1, 1, 0, 0, 1, 1, 1, 1, 1, 1, 1, 1, 0,\n",
       "       1, 1, 1, 0, 1, 1, 1, 1, 1, 1, 1, 1, 1, 1, 1, 0, 0, 0, 1, 1, 1, 1,\n",
       "       0, 0], dtype=int64)"
      ]
     },
     "execution_count": 36,
     "metadata": {},
     "output_type": "execute_result"
    }
   ],
   "source": [
    "predictions"
   ]
  },
  {
   "cell_type": "code",
   "execution_count": null,
   "metadata": {},
   "outputs": [],
   "source": []
  },
  {
   "cell_type": "markdown",
   "metadata": {},
   "source": [
    "## Logistic Regression"
   ]
  },
  {
   "cell_type": "code",
   "execution_count": 37,
   "metadata": {
    "scrolled": true
   },
   "outputs": [
    {
     "name": "stdout",
     "output_type": "stream",
     "text": [
      "Accuracy score:  0.782608695652174\n",
      "Precision score:  0.8260869565217391\n",
      "Recall score:  0.76\n"
     ]
    },
    {
     "name": "stderr",
     "output_type": "stream",
     "text": [
      "C:\\Users\\pearl\\Documents\\clay-gpt\\env\\lib\\site-packages\\sklearn\\linear_model\\_logistic.py:763: ConvergenceWarning: lbfgs failed to converge (status=1):\n",
      "STOP: TOTAL NO. of ITERATIONS REACHED LIMIT.\n",
      "\n",
      "Increase the number of iterations (max_iter) or scale the data as shown in:\n",
      "    https://scikit-learn.org/stable/modules/preprocessing.html\n",
      "Please also refer to the documentation for alternative solver options:\n",
      "    https://scikit-learn.org/stable/modules/linear_model.html#logistic-regression\n",
      "  n_iter_i = _check_optimize_result(\n"
     ]
    },
    {
     "data": {
      "text/plain": [
       "Text(0.5, 7.0, 'predicted label')"
      ]
     },
     "execution_count": 37,
     "metadata": {},
     "output_type": "execute_result"
    },
    {
     "data": {
      "image/png": "[encoded data removed]",
      "text/plain": [
       "<Figure size 432x288 with 1 Axes>"
      ]
     },
     "metadata": {
      "needs_background": "light"
     },
     "output_type": "display_data"
    }
   ],
   "source": [
    "lm = linear_model.LogisticRegression()\n",
    "lm.fit(X_train[:, 2:], y_train)\n",
    "predictions = lm.predict(X_test[:, 2:])\n",
    "print('Accuracy score: ', metrics.accuracy_score(y_test, predictions))\n",
    "print('Precision score: ', metrics.precision_score(y_test, predictions))\n",
    "print('Recall score: ', metrics.recall_score(y_test, predictions))\n",
    "cm = metrics.confusion_matrix(y_test, predictions)\n",
    "sns.heatmap(cm, square=True, annot=True, cmap='RdBu', cbar=False,\n",
    "xticklabels=['english', 'translation'], yticklabels=['english', 'translation'])\n",
    "plt.ylabel('true label')\n",
    "plt.xlabel('predicted label')"
   ]
  },
  {
   "cell_type": "markdown",
   "metadata": {},
   "source": [
    "## SVM\n",
    "https://monkeylearn.com/blog/introduction-to-support-vector-machines-svm/"
   ]
  },
  {
   "cell_type": "code",
   "execution_count": 38,
   "metadata": {},
   "outputs": [
    {
     "name": "stdout",
     "output_type": "stream",
     "text": [
      "Accuracy score:  0.8043478260869565\n",
      "Precision score:  0.8076923076923077\n",
      "Recall score:  0.84\n"
     ]
    },
    {
     "data": {
      "text/plain": [
       "Text(0.5, 7.0, 'predicted label')"
      ]
     },
     "execution_count": 38,
     "metadata": {},
     "output_type": "execute_result"
    },
    {
     "data": {
      "image/png": "[encoded data removed]",
      "text/plain": [
       "<Figure size 432x288 with 1 Axes>"
      ]
     },
     "metadata": {
      "needs_background": "light"
     },
     "output_type": "display_data"
    }
   ],
   "source": [
    "# fit the training dataset on the classifier\n",
    "SVM = svm.SVC(C=1.0, kernel='linear', degree=3, gamma='auto')\n",
    "SVM.fit(X_train[:, 2:], y_train)\n",
    "predictions = SVM.predict(X_test[:, 2:])\n",
    "# Use accuracy_score function to get the accuracy\n",
    "print('Accuracy score: ', metrics.accuracy_score(y_test, predictions))\n",
    "print('Precision score: ', metrics.precision_score(y_test, predictions))\n",
    "print('Recall score: ', metrics.recall_score(y_test, predictions))\n",
    "cm = metrics.confusion_matrix(y_test, predictions)\n",
    "sns.heatmap(cm, square=True, annot=True, cmap='RdBu', cbar=False,\n",
    "xticklabels=['english', 'translation'], yticklabels=['english', 'translation'])\n",
    "plt.ylabel('true label')\n",
    "plt.xlabel('predicted label')"
   ]
  },
  {
   "cell_type": "markdown",
   "metadata": {},
   "source": [
    "## Neural Networks"
   ]
  },
  {
   "cell_type": "markdown",
   "metadata": {},
   "source": [
    "### Shallow"
   ]
  },
  {
   "cell_type": "code",
   "execution_count": 39,
   "metadata": {},
   "outputs": [],
   "source": [
    "from keras.preprocessing import text, sequence\n",
    "from keras import layers, models, optimizers\n",
    "\n",
    "def train_model(classifier, feature_vector_train, label, feature_vector_valid, is_neural_net=False):\n",
    "    # fit the training dataset on the classifier\n",
    "    if is_neural_net:\n",
    "#         feature_vector_train = np.asarray(feature_vector_train).astype(np.float32)\n",
    "        classifier.fit(np.asarray(feature_vector_train).astype(np.float32), label, epochs=150)\n",
    "    else:\n",
    "        classifier.fit(feature_vector_train, label)\n",
    "    \n",
    "    # predict the labels on validation dataset\n",
    "    predictions = classifier.predict(np.asarray(feature_vector_valid).astype(np.float32))\n",
    "    \n",
    "    if is_neural_net:\n",
    "        predictions = predictions > 0.5\n",
    "        \n",
    "    return predictions"
   ]
  },
  {
   "cell_type": "code",
   "execution_count": 40,
   "metadata": {},
   "outputs": [],
   "source": [
    "def create_model_architecture(input_size):\n",
    "    # create input layer \n",
    "    input_layer = layers.Input((input_size, ), sparse=True)\n",
    "    \n",
    "    # create hidden layer\n",
    "    hidden_layer = layers.Dense(180, activation=\"relu\")(input_layer)\n",
    "        \n",
    "    # create output layer\n",
    "    output_layer = layers.Dense(1, activation=\"sigmoid\")(hidden_layer)\n",
    "\n",
    "    classifier = models.Model(inputs = input_layer, outputs = output_layer)\n",
    "    classifier.compile(optimizer=optimizers.Adam(), loss='binary_crossentropy')\n",
    "    return classifier"
   ]
  },
  {
   "cell_type": "code",
   "execution_count": 41,
   "metadata": {
    "scrolled": true
   },
   "outputs": [
    {
     "name": "stdout",
     "output_type": "stream",
     "text": [
      "Epoch 1/150\n",
      "5/5 [==============================] - 0s 3ms/step - loss: 0.6908\n",
      "Epoch 2/150\n",
      "5/5 [==============================] - 0s 3ms/step - loss: 0.6239\n",
      "Epoch 3/150\n",
      "5/5 [==============================] - 0s 3ms/step - loss: 0.5493\n",
      "Epoch 4/150\n",
      "5/5 [==============================] - 0s 3ms/step - loss: 0.4745\n",
      "Epoch 5/150\n",
      "5/5 [==============================] - 0s 3ms/step - loss: 0.3801\n",
      "Epoch 6/150\n",
      "5/5 [==============================] - 0s 3ms/step - loss: 0.3128\n",
      "Epoch 7/150\n",
      "5/5 [==============================] - 0s 3ms/step - loss: 0.2464\n",
      "Epoch 8/150\n",
      "5/5 [==============================] - 0s 3ms/step - loss: 0.1902\n",
      "Epoch 9/150\n",
      "5/5 [==============================] - 0s 3ms/step - loss: 0.1471\n",
      "Epoch 10/150\n",
      "5/5 [==============================] - 0s 3ms/step - loss: 0.1170\n",
      "Epoch 11/150\n",
      "5/5 [==============================] - 0s 3ms/step - loss: 0.0874\n",
      "Epoch 12/150\n",
      "5/5 [==============================] - 0s 3ms/step - loss: 0.0693\n",
      "Epoch 13/150\n",
      "5/5 [==============================] - 0s 3ms/step - loss: 0.0540\n",
      "Epoch 14/150\n",
      "5/5 [==============================] - 0s 3ms/step - loss: 0.0460\n",
      "Epoch 15/150\n",
      "5/5 [==============================] - 0s 3ms/step - loss: 0.0409\n",
      "Epoch 16/150\n",
      "5/5 [==============================] - 0s 3ms/step - loss: 0.0326\n",
      "Epoch 17/150\n",
      "5/5 [==============================] - 0s 3ms/step - loss: 0.0276\n",
      "Epoch 18/150\n",
      "5/5 [==============================] - 0s 3ms/step - loss: 0.0240\n",
      "Epoch 19/150\n",
      "5/5 [==============================] - 0s 3ms/step - loss: 0.0221\n",
      "Epoch 20/150\n",
      "5/5 [==============================] - 0s 3ms/step - loss: 0.0194\n",
      "Epoch 21/150\n",
      "5/5 [==============================] - 0s 3ms/step - loss: 0.0170\n",
      "Epoch 22/150\n",
      "5/5 [==============================] - 0s 3ms/step - loss: 0.0148\n",
      "Epoch 23/150\n",
      "5/5 [==============================] - 0s 3ms/step - loss: 0.0141\n",
      "Epoch 24/150\n",
      "5/5 [==============================] - 0s 3ms/step - loss: 0.0126\n",
      "Epoch 25/150\n",
      "5/5 [==============================] - 0s 3ms/step - loss: 0.0118\n",
      "Epoch 26/150\n",
      "5/5 [==============================] - 0s 3ms/step - loss: 0.0108\n",
      "Epoch 27/150\n",
      "5/5 [==============================] - 0s 3ms/step - loss: 0.0099\n",
      "Epoch 28/150\n",
      "5/5 [==============================] - 0s 3ms/step - loss: 0.0092\n",
      "Epoch 29/150\n",
      "5/5 [==============================] - 0s 3ms/step - loss: 0.0085\n",
      "Epoch 30/150\n",
      "5/5 [==============================] - 0s 3ms/step - loss: 0.0078\n",
      "Epoch 31/150\n",
      "5/5 [==============================] - 0s 3ms/step - loss: 0.0073\n",
      "Epoch 32/150\n",
      "5/5 [==============================] - 0s 3ms/step - loss: 0.0066\n",
      "Epoch 33/150\n",
      "5/5 [==============================] - 0s 3ms/step - loss: 0.0062\n",
      "Epoch 34/150\n",
      "5/5 [==============================] - 0s 3ms/step - loss: 0.0061\n",
      "Epoch 35/150\n",
      "5/5 [==============================] - 0s 3ms/step - loss: 0.0059\n",
      "Epoch 36/150\n",
      "5/5 [==============================] - 0s 3ms/step - loss: 0.0055\n",
      "Epoch 37/150\n",
      "5/5 [==============================] - 0s 3ms/step - loss: 0.0052\n",
      "Epoch 38/150\n",
      "5/5 [==============================] - 0s 3ms/step - loss: 0.0048\n",
      "Epoch 39/150\n",
      "5/5 [==============================] - 0s 3ms/step - loss: 0.0045\n",
      "Epoch 40/150\n",
      "5/5 [==============================] - 0s 3ms/step - loss: 0.0044\n",
      "Epoch 41/150\n",
      "5/5 [==============================] - 0s 3ms/step - loss: 0.0043\n",
      "Epoch 42/150\n",
      "5/5 [==============================] - 0s 3ms/step - loss: 0.0040\n",
      "Epoch 43/150\n",
      "5/5 [==============================] - 0s 3ms/step - loss: 0.0038\n",
      "Epoch 44/150\n",
      "5/5 [==============================] - 0s 3ms/step - loss: 0.0038\n",
      "Epoch 45/150\n",
      "5/5 [==============================] - 0s 3ms/step - loss: 0.0036\n",
      "Epoch 46/150\n",
      "5/5 [==============================] - 0s 3ms/step - loss: 0.0034\n",
      "Epoch 47/150\n",
      "5/5 [==============================] - 0s 3ms/step - loss: 0.0032\n",
      "Epoch 48/150\n",
      "5/5 [==============================] - 0s 3ms/step - loss: 0.0031\n",
      "Epoch 49/150\n",
      "5/5 [==============================] - 0s 3ms/step - loss: 0.0031\n",
      "Epoch 50/150\n",
      "5/5 [==============================] - 0s 3ms/step - loss: 0.0029\n",
      "Epoch 51/150\n",
      "5/5 [==============================] - 0s 3ms/step - loss: 0.0027\n",
      "Epoch 52/150\n",
      "5/5 [==============================] - 0s 3ms/step - loss: 0.0027\n",
      "Epoch 53/150\n",
      "5/5 [==============================] - 0s 3ms/step - loss: 0.0025\n",
      "Epoch 54/150\n",
      "5/5 [==============================] - 0s 4ms/step - loss: 0.0025\n",
      "Epoch 55/150\n",
      "5/5 [==============================] - 0s 3ms/step - loss: 0.0024\n",
      "Epoch 56/150\n",
      "5/5 [==============================] - 0s 3ms/step - loss: 0.0023\n",
      "Epoch 57/150\n",
      "5/5 [==============================] - 0s 3ms/step - loss: 0.0023\n",
      "Epoch 58/150\n",
      "5/5 [==============================] - 0s 3ms/step - loss: 0.0022\n",
      "Epoch 59/150\n",
      "5/5 [==============================] - 0s 3ms/step - loss: 0.0020\n",
      "Epoch 60/150\n",
      "5/5 [==============================] - 0s 3ms/step - loss: 0.0020\n",
      "Epoch 61/150\n",
      "5/5 [==============================] - 0s 3ms/step - loss: 0.0020\n",
      "Epoch 62/150\n",
      "5/5 [==============================] - 0s 3ms/step - loss: 0.0018\n",
      "Epoch 63/150\n",
      "5/5 [==============================] - 0s 3ms/step - loss: 0.0018\n",
      "Epoch 64/150\n",
      "5/5 [==============================] - 0s 3ms/step - loss: 0.0017\n",
      "Epoch 65/150\n",
      "5/5 [==============================] - 0s 3ms/step - loss: 0.0017\n",
      "Epoch 66/150\n",
      "5/5 [==============================] - 0s 3ms/step - loss: 0.0017\n",
      "Epoch 67/150\n",
      "5/5 [==============================] - 0s 3ms/step - loss: 0.0016\n",
      "Epoch 68/150\n",
      "5/5 [==============================] - 0s 3ms/step - loss: 0.0016\n",
      "Epoch 69/150\n",
      "5/5 [==============================] - 0s 3ms/step - loss: 0.0015\n",
      "Epoch 70/150\n",
      "5/5 [==============================] - 0s 3ms/step - loss: 0.0014\n",
      "Epoch 71/150\n",
      "5/5 [==============================] - 0s 3ms/step - loss: 0.0015\n",
      "Epoch 72/150\n",
      "5/5 [==============================] - 0s 3ms/step - loss: 0.0014\n",
      "Epoch 73/150\n",
      "5/5 [==============================] - 0s 3ms/step - loss: 0.0013\n",
      "Epoch 74/150\n",
      "5/5 [==============================] - 0s 3ms/step - loss: 0.0013\n",
      "Epoch 75/150\n",
      "5/5 [==============================] - 0s 3ms/step - loss: 0.0013\n",
      "Epoch 76/150\n",
      "5/5 [==============================] - 0s 3ms/step - loss: 0.0013\n",
      "Epoch 77/150\n",
      "5/5 [==============================] - 0s 3ms/step - loss: 0.0012\n",
      "Epoch 78/150\n",
      "5/5 [==============================] - 0s 3ms/step - loss: 0.0012\n",
      "Epoch 79/150\n",
      "5/5 [==============================] - 0s 3ms/step - loss: 0.0012\n",
      "Epoch 80/150\n",
      "5/5 [==============================] - 0s 3ms/step - loss: 0.0011\n",
      "Epoch 81/150\n",
      "5/5 [==============================] - 0s 3ms/step - loss: 0.0011\n",
      "Epoch 82/150\n",
      "5/5 [==============================] - 0s 3ms/step - loss: 0.0011\n",
      "Epoch 83/150\n",
      "5/5 [==============================] - 0s 3ms/step - loss: 0.0011\n",
      "Epoch 84/150\n",
      "5/5 [==============================] - 0s 3ms/step - loss: 0.0010\n",
      "Epoch 85/150\n",
      "5/5 [==============================] - 0s 3ms/step - loss: 9.7626e-04\n",
      "Epoch 86/150\n",
      "5/5 [==============================] - 0s 3ms/step - loss: 9.7089e-04\n",
      "Epoch 87/150\n",
      "5/5 [==============================] - 0s 3ms/step - loss: 9.7120e-04\n",
      "Epoch 88/150\n",
      "5/5 [==============================] - 0s 3ms/step - loss: 9.2756e-04\n",
      "Epoch 89/150\n",
      "5/5 [==============================] - 0s 3ms/step - loss: 8.8343e-04\n",
      "Epoch 90/150\n",
      "5/5 [==============================] - 0s 3ms/step - loss: 9.1809e-04\n",
      "Epoch 91/150\n",
      "5/5 [==============================] - 0s 3ms/step - loss: 8.6118e-04\n",
      "Epoch 92/150\n",
      "5/5 [==============================] - 0s 3ms/step - loss: 8.7736e-04\n",
      "Epoch 93/150\n",
      "5/5 [==============================] - 0s 3ms/step - loss: 8.5004e-04\n",
      "Epoch 94/150\n",
      "5/5 [==============================] - 0s 3ms/step - loss: 8.0923e-04\n",
      "Epoch 95/150\n",
      "5/5 [==============================] - 0s 3ms/step - loss: 8.4513e-04\n",
      "Epoch 96/150\n",
      "5/5 [==============================] - 0s 3ms/step - loss: 8.2059e-04\n",
      "Epoch 97/150\n",
      "5/5 [==============================] - 0s 3ms/step - loss: 7.7039e-04\n",
      "Epoch 98/150\n",
      "5/5 [==============================] - 0s 3ms/step - loss: 7.3779e-04\n",
      "Epoch 99/150\n",
      "5/5 [==============================] - 0s 3ms/step - loss: 7.2082e-04\n",
      "Epoch 100/150\n",
      "5/5 [==============================] - 0s 3ms/step - loss: 7.5546e-04\n",
      "Epoch 101/150\n",
      "5/5 [==============================] - 0s 3ms/step - loss: 6.9981e-04\n",
      "Epoch 102/150\n",
      "5/5 [==============================] - 0s 3ms/step - loss: 6.7932e-04\n",
      "Epoch 103/150\n"
     ]
    },
    {
     "name": "stdout",
     "output_type": "stream",
     "text": [
      "5/5 [==============================] - 0s 3ms/step - loss: 6.9456e-04\n",
      "Epoch 104/150\n",
      "5/5 [==============================] - 0s 3ms/step - loss: 7.0058e-04\n",
      "Epoch 105/150\n",
      "5/5 [==============================] - 0s 3ms/step - loss: 6.4824e-04\n",
      "Epoch 106/150\n",
      "5/5 [==============================] - 0s 3ms/step - loss: 6.3888e-04\n",
      "Epoch 107/150\n",
      "5/5 [==============================] - 0s 3ms/step - loss: 5.9973e-04\n",
      "Epoch 108/150\n",
      "5/5 [==============================] - 0s 3ms/step - loss: 6.2068e-04\n",
      "Epoch 109/150\n",
      "5/5 [==============================] - 0s 3ms/step - loss: 6.2006e-04\n",
      "Epoch 110/150\n",
      "5/5 [==============================] - 0s 3ms/step - loss: 5.7778e-04\n",
      "Epoch 111/150\n",
      "5/5 [==============================] - 0s 3ms/step - loss: 5.8352e-04\n",
      "Epoch 112/150\n",
      "5/5 [==============================] - 0s 3ms/step - loss: 5.7991e-04\n",
      "Epoch 113/150\n",
      "5/5 [==============================] - 0s 3ms/step - loss: 5.6402e-04\n",
      "Epoch 114/150\n",
      "5/5 [==============================] - 0s 3ms/step - loss: 5.4986e-04\n",
      "Epoch 115/150\n",
      "5/5 [==============================] - 0s 3ms/step - loss: 5.6332e-04\n",
      "Epoch 116/150\n",
      "5/5 [==============================] - 0s 3ms/step - loss: 5.4526e-04\n",
      "Epoch 117/150\n",
      "5/5 [==============================] - 0s 3ms/step - loss: 5.3759e-04\n",
      "Epoch 118/150\n",
      "5/5 [==============================] - 0s 3ms/step - loss: 5.3870e-04\n",
      "Epoch 119/150\n",
      "5/5 [==============================] - 0s 3ms/step - loss: 5.0714e-04\n",
      "Epoch 120/150\n",
      "5/5 [==============================] - 0s 3ms/step - loss: 4.9746e-04\n",
      "Epoch 121/150\n",
      "5/5 [==============================] - 0s 3ms/step - loss: 4.7786e-04\n",
      "Epoch 122/150\n",
      "5/5 [==============================] - 0s 3ms/step - loss: 4.8227e-04\n",
      "Epoch 123/150\n",
      "5/5 [==============================] - 0s 3ms/step - loss: 4.6066e-04\n",
      "Epoch 124/150\n",
      "5/5 [==============================] - 0s 3ms/step - loss: 4.7271e-04\n",
      "Epoch 125/150\n",
      "5/5 [==============================] - 0s 3ms/step - loss: 4.6758e-04\n",
      "Epoch 126/150\n",
      "5/5 [==============================] - 0s 3ms/step - loss: 4.4573e-04\n",
      "Epoch 127/150\n",
      "5/5 [==============================] - 0s 3ms/step - loss: 4.7066e-04\n",
      "Epoch 128/150\n",
      "5/5 [==============================] - 0s 3ms/step - loss: 4.4799e-04\n",
      "Epoch 129/150\n",
      "5/5 [==============================] - 0s 3ms/step - loss: 4.4286e-04\n",
      "Epoch 130/150\n",
      "5/5 [==============================] - 0s 3ms/step - loss: 4.2689e-04\n",
      "Epoch 131/150\n",
      "5/5 [==============================] - 0s 3ms/step - loss: 4.0911e-04\n",
      "Epoch 132/150\n",
      "5/5 [==============================] - 0s 3ms/step - loss: 4.2924e-04\n",
      "Epoch 133/150\n",
      "5/5 [==============================] - 0s 3ms/step - loss: 4.1900e-04\n",
      "Epoch 134/150\n",
      "5/5 [==============================] - 0s 3ms/step - loss: 4.0585e-04\n",
      "Epoch 135/150\n",
      "5/5 [==============================] - 0s 3ms/step - loss: 4.0970e-04\n",
      "Epoch 136/150\n",
      "5/5 [==============================] - 0s 3ms/step - loss: 3.8187e-04\n",
      "Epoch 137/150\n",
      "5/5 [==============================] - 0s 3ms/step - loss: 3.8842e-04\n",
      "Epoch 138/150\n",
      "5/5 [==============================] - 0s 3ms/step - loss: 3.9443e-04\n",
      "Epoch 139/150\n",
      "5/5 [==============================] - 0s 3ms/step - loss: 3.7300e-04\n",
      "Epoch 140/150\n",
      "5/5 [==============================] - 0s 3ms/step - loss: 3.8602e-04\n",
      "Epoch 141/150\n",
      "5/5 [==============================] - 0s 3ms/step - loss: 3.6703e-04\n",
      "Epoch 142/150\n",
      "5/5 [==============================] - 0s 3ms/step - loss: 3.5057e-04\n",
      "Epoch 143/150\n",
      "5/5 [==============================] - 0s 3ms/step - loss: 3.4757e-04\n",
      "Epoch 144/150\n",
      "5/5 [==============================] - 0s 3ms/step - loss: 3.4598e-04\n",
      "Epoch 145/150\n",
      "5/5 [==============================] - 0s 3ms/step - loss: 3.4948e-04\n",
      "Epoch 146/150\n",
      "5/5 [==============================] - 0s 3ms/step - loss: 3.4082e-04\n",
      "Epoch 147/150\n",
      "5/5 [==============================] - 0s 3ms/step - loss: 3.3813e-04\n",
      "Epoch 148/150\n",
      "5/5 [==============================] - 0s 3ms/step - loss: 3.3641e-04\n",
      "Epoch 149/150\n",
      "5/5 [==============================] - 0s 3ms/step - loss: 3.3558e-04\n",
      "Epoch 150/150\n",
      "5/5 [==============================] - 0s 3ms/step - loss: 3.3349e-04\n",
      "Accuracy score:  0.9130434782608695\n",
      "Precision score:  0.8888888888888888\n",
      "Recall score:  0.96\n"
     ]
    }
   ],
   "source": [
    "classifier = create_model_architecture(X_train[:, tfidf_ind:].shape[1])\n",
    "predictions = train_model(classifier, X_train[:, tfidf_ind:], y_train, X_test[:, tfidf_ind:], is_neural_net=True)\n",
    "print('Accuracy score: ', metrics.accuracy_score(y_test, predictions))\n",
    "print('Precision score: ', metrics.precision_score(y_test, predictions))\n",
    "print('Recall score: ', metrics.recall_score(y_test, predictions))"
   ]
  },
  {
   "cell_type": "code",
   "execution_count": 42,
   "metadata": {
    "scrolled": true
   },
   "outputs": [
    {
     "name": "stdout",
     "output_type": "stream",
     "text": [
      "INFO:tensorflow:Assets written to: filename\\assets\n"
     ]
    }
   ],
   "source": [
    "classifier.save('filename')"
   ]
  },
  {
   "cell_type": "code",
   "execution_count": 43,
   "metadata": {},
   "outputs": [],
   "source": [
    "model = models.load_model('filename')"
   ]
  },
  {
   "cell_type": "code",
   "execution_count": 44,
   "metadata": {},
   "outputs": [
    {
     "name": "stdout",
     "output_type": "stream",
     "text": [
      "Accuracy score:  0.9130434782608695\n",
      "Precision score:  0.8888888888888888\n",
      "Recall score:  0.96\n"
     ]
    }
   ],
   "source": [
    "predictions = model.predict(np.asarray(X_test[:, tfidf_ind:]).astype(np.float32)) > 0.5\n",
    "print('Accuracy score: ', metrics.accuracy_score(y_test, predictions))\n",
    "print('Precision score: ', metrics.precision_score(y_test, predictions))\n",
    "print('Recall score: ', metrics.recall_score(y_test, predictions))"
   ]
  },
  {
   "cell_type": "code",
   "execution_count": null,
   "metadata": {},
   "outputs": [],
   "source": []
  },
  {
   "cell_type": "code",
   "execution_count": null,
   "metadata": {},
   "outputs": [],
   "source": []
  },
  {
   "cell_type": "code",
   "execution_count": 45,
   "metadata": {
    "scrolled": true
   },
   "outputs": [
    {
     "data": {
      "image/png": "[encoded data removed]",
      "text/plain": [
       "<Figure size 432x432 with 1 Axes>"
      ]
     },
     "metadata": {
      "needs_background": "light"
     },
     "output_type": "display_data"
    }
   ],
   "source": [
    "cm = metrics.confusion_matrix(y_testt, predictions)\n",
    "plt.figure(figsize=(6, 6))\n",
    "matplotlib.rcParams.update({'font.size': 18})\n",
    "\n",
    "sns.heatmap(cm, square=True, annot=True, cmap='RdBu', cbar=False,\n",
    "xticklabels=['english', 'translation'], yticklabels=['english', 'translation'])\n",
    "plt.ylabel('true label')\n",
    "plt.xlabel('predicted label')\n",
    "plt.savefig(\"nn_tfidf_unigram.png\")"
   ]
  },
  {
   "cell_type": "code",
   "execution_count": 47,
   "metadata": {},
   "outputs": [],
   "source": [
    "feat_test_v = df.drop(['categ'], axis=1).to_numpy()\n",
    "xtrain_count = tfidf_vect.transform(df['text'])\n",
    "word_test_v = xtrain_count.toarray()\n",
    "\n",
    "test_v = np.concatenate((feat_test_v, word_test_v), axis=1)\n",
    "test_y = [0]\n",
    "\n",
    "predictions = classifier.predict(np.asarray(word_test_v).astype(np.float32))\n",
    "\n",
    "testing_predictions = []\n",
    "for i in range(len(test_v)):\n",
    "    if predictions[i] == 1:\n",
    "        testing_predictions.append('translation')\n",
    "    else:\n",
    "        testing_predictions.append('english')\n",
    "check_df = pd.DataFrame({'actual_label': list(test_y), 'prediction': testing_predictions, 'text':list(test_v[:, 1]), 'file':list(test_v[:, 0])})\n",
    "check_df.replace(to_replace=0, value='english', inplace=True)\n",
    "check_df.replace(to_replace=1, value='translation', inplace=True)"
   ]
  },
  {
   "cell_type": "code",
   "execution_count": 48,
   "metadata": {},
   "outputs": [
    {
     "data": {
      "text/html": [
       "<div>\n",
       "<style scoped>\n",
       "    .dataframe tbody tr th:only-of-type {\n",
       "        vertical-align: middle;\n",
       "    }\n",
       "\n",
       "    .dataframe tbody tr th {\n",
       "        vertical-align: top;\n",
       "    }\n",
       "\n",
       "    .dataframe thead th {\n",
       "        text-align: right;\n",
       "    }\n",
       "</style>\n",
       "<table border=\"1\" class=\"dataframe\">\n",
       "  <thead>\n",
       "    <tr style=\"text-align: right;\">\n",
       "      <th></th>\n",
       "      <th>actual_label</th>\n",
       "      <th>prediction</th>\n",
       "      <th>text</th>\n",
       "      <th>file</th>\n",
       "    </tr>\n",
       "  </thead>\n",
       "  <tbody>\n",
       "    <tr>\n",
       "      <th>0</th>\n",
       "      <td>english</td>\n",
       "      <td>english</td>\n",
       "      <td>Russian President Vladimir Putin is provoking ...</td>\n",
       "      <td>test_1</td>\n",
       "    </tr>\n",
       "  </tbody>\n",
       "</table>\n",
       "</div>"
      ],
      "text/plain": [
       "  actual_label prediction                                               text  \\\n",
       "0      english    english  Russian President Vladimir Putin is provoking ...   \n",
       "\n",
       "     file  \n",
       "0  test_1  "
      ]
     },
     "execution_count": 48,
     "metadata": {},
     "output_type": "execute_result"
    }
   ],
   "source": [
    "check_df"
   ]
  },
  {
   "cell_type": "code",
   "execution_count": null,
   "metadata": {},
   "outputs": [],
   "source": []
  },
  {
   "cell_type": "markdown",
   "metadata": {},
   "source": [
    "### Convolutional Neural Network"
   ]
  },
  {
   "cell_type": "code",
   "execution_count": 49,
   "metadata": {},
   "outputs": [],
   "source": [
    "def create_cnn():\n",
    "    # Add an Input Layer\n",
    "    input_layer = layers.Input((70, ))\n",
    "\n",
    "    # Add the word embedding Layer\n",
    "    embedding_layer = layers.Embedding(len(word_index) + 1, 300, weights=[embedding_matrix], trainable=False)(input_layer)\n",
    "    embedding_layer = layers.SpatialDropout1D(0.3)(embedding_layer)\n",
    "\n",
    "    # Add the convolutional Layer\n",
    "    conv_layer = layers.Convolution1D(100, 3, activation=\"relu\")(embedding_layer)\n",
    "\n",
    "    # Add the pooling Layer\n",
    "    pooling_layer = layers.GlobalMaxPool1D()(conv_layer)\n",
    "\n",
    "    # Add the output Layers\n",
    "    output_layer1 = layers.Dense(50, activation=\"relu\")(pooling_layer)\n",
    "    output_layer1 = layers.Dropout(0.25)(output_layer1)\n",
    "    output_layer2 = layers.Dense(1, activation=\"sigmoid\")(output_layer1)\n",
    "\n",
    "    # Compile the model\n",
    "    model = models.Model(inputs=input_layer, outputs=output_layer2)\n",
    "    model.compile(optimizer=optimizers.Adam(), loss='binary_crossentropy')\n",
    "    \n",
    "    return model"
   ]
  },
  {
   "cell_type": "markdown",
   "metadata": {},
   "source": [
    "#### GloVe embeddings"
   ]
  },
  {
   "cell_type": "code",
   "execution_count": 50,
   "metadata": {},
   "outputs": [],
   "source": [
    "X_train, X_test, y_train, y_test = model_selection.train_test_split(trainDF['text'], trainDF['label'], random_state=1)\n",
    "\n",
    "# load the pre-trained word-embedding vectors \n",
    "embeddings_index = {}\n",
    "for i, line in enumerate(open(\"data/glove.6B.300d.txt\", 'r', encoding=\"utf-8\")):\n",
    "    values = line.split()\n",
    "    embeddings_index[values[0]] = np.asarray(values[1:], dtype='float32')\n",
    "\n",
    "# create a tokenizer \n",
    "token = text.Tokenizer()\n",
    "token.fit_on_texts(trainDF['text'])\n",
    "word_index = token.word_index\n",
    "\n",
    "# convert text to sequence of tokens and pad them to ensure equal length vectors \n",
    "train_seq_x = sequence.pad_sequences(token.texts_to_sequences(X_train), maxlen=70)\n",
    "valid_seq_x = sequence.pad_sequences(token.texts_to_sequences(X_test), maxlen=70)\n",
    "\n",
    "# create token-embedding mapping\n",
    "embedding_matrix = np.zeros((len(word_index) + 1, 300))\n",
    "for word, i in word_index.items():\n",
    "    embedding_vector = embeddings_index.get(word)\n",
    "    if embedding_vector is not None:\n",
    "        embedding_matrix[i] = embedding_vector"
   ]
  },
  {
   "cell_type": "code",
   "execution_count": 51,
   "metadata": {
    "scrolled": true
   },
   "outputs": [
    {
     "name": "stdout",
     "output_type": "stream",
     "text": [
      "Epoch 1/150\n",
      "5/5 [==============================] - 1s 9ms/step - loss: 0.7524\n",
      "Epoch 2/150\n",
      "5/5 [==============================] - 0s 8ms/step - loss: 0.7536\n",
      "Epoch 3/150\n",
      "5/5 [==============================] - 0s 8ms/step - loss: 0.6358\n",
      "Epoch 4/150\n",
      "5/5 [==============================] - 0s 8ms/step - loss: 0.5811\n",
      "Epoch 5/150\n",
      "5/5 [==============================] - 0s 8ms/step - loss: 0.5811\n",
      "Epoch 6/150\n",
      "5/5 [==============================] - 0s 8ms/step - loss: 0.5218\n",
      "Epoch 7/150\n",
      "5/5 [==============================] - 0s 8ms/step - loss: 0.5057\n",
      "Epoch 8/150\n",
      "5/5 [==============================] - 0s 8ms/step - loss: 0.4693\n",
      "Epoch 9/150\n",
      "5/5 [==============================] - 0s 7ms/step - loss: 0.4759\n",
      "Epoch 10/150\n",
      "5/5 [==============================] - 0s 8ms/step - loss: 0.3973\n",
      "Epoch 11/150\n",
      "5/5 [==============================] - 0s 8ms/step - loss: 0.3289\n",
      "Epoch 12/150\n",
      "5/5 [==============================] - 0s 8ms/step - loss: 0.3505\n",
      "Epoch 13/150\n",
      "5/5 [==============================] - 0s 8ms/step - loss: 0.2861\n",
      "Epoch 14/150\n",
      "5/5 [==============================] - 0s 7ms/step - loss: 0.2969\n",
      "Epoch 15/150\n",
      "5/5 [==============================] - 0s 8ms/step - loss: 0.2145\n",
      "Epoch 16/150\n",
      "5/5 [==============================] - 0s 8ms/step - loss: 0.1928\n",
      "Epoch 17/150\n",
      "5/5 [==============================] - 0s 8ms/step - loss: 0.1673\n",
      "Epoch 18/150\n",
      "5/5 [==============================] - 0s 8ms/step - loss: 0.1308\n",
      "Epoch 19/150\n",
      "5/5 [==============================] - 0s 7ms/step - loss: 0.1248\n",
      "Epoch 20/150\n",
      "5/5 [==============================] - 0s 7ms/step - loss: 0.1072\n",
      "Epoch 21/150\n",
      "5/5 [==============================] - 0s 8ms/step - loss: 0.0938\n",
      "Epoch 22/150\n",
      "5/5 [==============================] - 0s 7ms/step - loss: 0.0900\n",
      "Epoch 23/150\n",
      "5/5 [==============================] - 0s 7ms/step - loss: 0.0627\n",
      "Epoch 24/150\n",
      "5/5 [==============================] - 0s 8ms/step - loss: 0.0757\n",
      "Epoch 25/150\n",
      "5/5 [==============================] - 0s 7ms/step - loss: 0.0485\n",
      "Epoch 26/150\n",
      "5/5 [==============================] - 0s 7ms/step - loss: 0.0501\n",
      "Epoch 27/150\n",
      "5/5 [==============================] - 0s 7ms/step - loss: 0.0450\n",
      "Epoch 28/150\n",
      "5/5 [==============================] - 0s 9ms/step - loss: 0.0408\n",
      "Epoch 29/150\n",
      "5/5 [==============================] - 0s 9ms/step - loss: 0.0467\n",
      "Epoch 30/150\n",
      "5/5 [==============================] - 0s 8ms/step - loss: 0.0308\n",
      "Epoch 31/150\n",
      "5/5 [==============================] - 0s 8ms/step - loss: 0.0225\n",
      "Epoch 32/150\n",
      "5/5 [==============================] - 0s 8ms/step - loss: 0.0258\n",
      "Epoch 33/150\n",
      "5/5 [==============================] - 0s 9ms/step - loss: 0.0254\n",
      "Epoch 34/150\n",
      "5/5 [==============================] - 0s 8ms/step - loss: 0.0185\n",
      "Epoch 35/150\n",
      "5/5 [==============================] - 0s 7ms/step - loss: 0.0186\n",
      "Epoch 36/150\n",
      "5/5 [==============================] - 0s 7ms/step - loss: 0.0165\n",
      "Epoch 37/150\n",
      "5/5 [==============================] - 0s 8ms/step - loss: 0.0225\n",
      "Epoch 38/150\n",
      "5/5 [==============================] - 0s 7ms/step - loss: 0.0164\n",
      "Epoch 39/150\n",
      "5/5 [==============================] - 0s 7ms/step - loss: 0.0218\n",
      "Epoch 40/150\n",
      "5/5 [==============================] - 0s 8ms/step - loss: 0.0154\n",
      "Epoch 41/150\n",
      "5/5 [==============================] - 0s 7ms/step - loss: 0.0128\n",
      "Epoch 42/150\n",
      "5/5 [==============================] - 0s 7ms/step - loss: 0.0107\n",
      "Epoch 43/150\n",
      "5/5 [==============================] - 0s 8ms/step - loss: 0.0110\n",
      "Epoch 44/150\n",
      "5/5 [==============================] - 0s 7ms/step - loss: 0.0068\n",
      "Epoch 45/150\n",
      "5/5 [==============================] - 0s 8ms/step - loss: 0.0091\n",
      "Epoch 46/150\n",
      "5/5 [==============================] - 0s 8ms/step - loss: 0.0078\n",
      "Epoch 47/150\n",
      "5/5 [==============================] - 0s 8ms/step - loss: 0.0065\n",
      "Epoch 48/150\n",
      "5/5 [==============================] - 0s 8ms/step - loss: 0.0111\n",
      "Epoch 49/150\n",
      "5/5 [==============================] - 0s 7ms/step - loss: 0.0051\n",
      "Epoch 50/150\n",
      "5/5 [==============================] - 0s 7ms/step - loss: 0.0054\n",
      "Epoch 51/150\n",
      "5/5 [==============================] - 0s 7ms/step - loss: 0.0063\n",
      "Epoch 52/150\n",
      "5/5 [==============================] - 0s 7ms/step - loss: 0.0050\n",
      "Epoch 53/150\n",
      "5/5 [==============================] - 0s 8ms/step - loss: 0.0043\n",
      "Epoch 54/150\n",
      "5/5 [==============================] - 0s 7ms/step - loss: 0.0039\n",
      "Epoch 55/150\n",
      "5/5 [==============================] - 0s 7ms/step - loss: 0.0041\n",
      "Epoch 56/150\n",
      "5/5 [==============================] - 0s 7ms/step - loss: 0.0042\n",
      "Epoch 57/150\n",
      "5/5 [==============================] - 0s 8ms/step - loss: 0.0033\n",
      "Epoch 58/150\n",
      "5/5 [==============================] - 0s 7ms/step - loss: 0.0028\n",
      "Epoch 59/150\n",
      "5/5 [==============================] - 0s 7ms/step - loss: 0.0036\n",
      "Epoch 60/150\n",
      "5/5 [==============================] - 0s 9ms/step - loss: 0.0044\n",
      "Epoch 61/150\n",
      "5/5 [==============================] - 0s 7ms/step - loss: 0.0043\n",
      "Epoch 62/150\n",
      "5/5 [==============================] - 0s 8ms/step - loss: 0.0039\n",
      "Epoch 63/150\n",
      "5/5 [==============================] - 0s 10ms/step - loss: 0.0087\n",
      "Epoch 64/150\n",
      "5/5 [==============================] - 0s 10ms/step - loss: 0.0023\n",
      "Epoch 65/150\n",
      "5/5 [==============================] - 0s 9ms/step - loss: 0.0031\n",
      "Epoch 66/150\n",
      "5/5 [==============================] - 0s 8ms/step - loss: 0.0030\n",
      "Epoch 67/150\n",
      "5/5 [==============================] - 0s 9ms/step - loss: 0.0033\n",
      "Epoch 68/150\n",
      "5/5 [==============================] - 0s 7ms/step - loss: 0.0017\n",
      "Epoch 69/150\n",
      "5/5 [==============================] - 0s 7ms/step - loss: 0.0022\n",
      "Epoch 70/150\n",
      "5/5 [==============================] - 0s 8ms/step - loss: 0.0036\n",
      "Epoch 71/150\n",
      "5/5 [==============================] - 0s 7ms/step - loss: 0.0031\n",
      "Epoch 72/150\n",
      "5/5 [==============================] - 0s 6ms/step - loss: 0.0015\n",
      "Epoch 73/150\n",
      "5/5 [==============================] - 0s 6ms/step - loss: 0.0024\n",
      "Epoch 74/150\n",
      "5/5 [==============================] - 0s 7ms/step - loss: 0.0013\n",
      "Epoch 75/150\n",
      "5/5 [==============================] - 0s 7ms/step - loss: 0.0014\n",
      "Epoch 76/150\n",
      "5/5 [==============================] - 0s 6ms/step - loss: 0.0020\n",
      "Epoch 77/150\n",
      "5/5 [==============================] - 0s 6ms/step - loss: 0.0035\n",
      "Epoch 78/150\n",
      "5/5 [==============================] - 0s 7ms/step - loss: 0.0017\n",
      "Epoch 79/150\n",
      "5/5 [==============================] - 0s 7ms/step - loss: 0.0018\n",
      "Epoch 80/150\n",
      "5/5 [==============================] - 0s 6ms/step - loss: 0.0013\n",
      "Epoch 81/150\n",
      "5/5 [==============================] - 0s 7ms/step - loss: 0.0017\n",
      "Epoch 82/150\n",
      "5/5 [==============================] - 0s 7ms/step - loss: 0.0011\n",
      "Epoch 83/150\n",
      "5/5 [==============================] - 0s 9ms/step - loss: 0.0018\n",
      "Epoch 84/150\n",
      "5/5 [==============================] - 0s 18ms/step - loss: 0.0018\n",
      "Epoch 85/150\n",
      "5/5 [==============================] - 0s 16ms/step - loss: 0.0011\n",
      "Epoch 86/150\n",
      "5/5 [==============================] - 0s 11ms/step - loss: 0.0017\n",
      "Epoch 87/150\n",
      "5/5 [==============================] - 0s 10ms/step - loss: 0.0017\n",
      "Epoch 88/150\n",
      "5/5 [==============================] - 0s 11ms/step - loss: 0.0015\n",
      "Epoch 89/150\n",
      "5/5 [==============================] - 0s 9ms/step - loss: 0.0011\n",
      "Epoch 90/150\n",
      "5/5 [==============================] - 0s 10ms/step - loss: 6.8018e-04\n",
      "Epoch 91/150\n",
      "5/5 [==============================] - 0s 8ms/step - loss: 7.7943e-04\n",
      "Epoch 92/150\n",
      "5/5 [==============================] - 0s 9ms/step - loss: 7.4045e-04\n",
      "Epoch 93/150\n",
      "5/5 [==============================] - 0s 10ms/step - loss: 0.0030\n",
      "Epoch 94/150\n",
      "5/5 [==============================] - 0s 9ms/step - loss: 4.7758e-04\n",
      "Epoch 95/150\n",
      "5/5 [==============================] - 0s 8ms/step - loss: 0.0015\n",
      "Epoch 96/150\n",
      "5/5 [==============================] - 0s 9ms/step - loss: 0.0022\n",
      "Epoch 97/150\n",
      "5/5 [==============================] - 0s 8ms/step - loss: 9.4033e-04\n",
      "Epoch 98/150\n",
      "5/5 [==============================] - 0s 11ms/step - loss: 0.0011\n",
      "Epoch 99/150\n",
      "5/5 [==============================] - 0s 10ms/step - loss: 0.0011\n",
      "Epoch 100/150\n",
      "5/5 [==============================] - 0s 8ms/step - loss: 0.0010\n",
      "Epoch 101/150\n",
      "5/5 [==============================] - 0s 9ms/step - loss: 0.0021\n",
      "Epoch 102/150\n",
      "5/5 [==============================] - 0s 9ms/step - loss: 5.6886e-04\n",
      "Epoch 103/150\n",
      "5/5 [==============================] - 0s 10ms/step - loss: 6.4470e-04\n",
      "Epoch 104/150\n"
     ]
    },
    {
     "name": "stdout",
     "output_type": "stream",
     "text": [
      "5/5 [==============================] - 0s 9ms/step - loss: 0.0013\n",
      "Epoch 105/150\n",
      "5/5 [==============================] - 0s 8ms/step - loss: 9.9215e-04\n",
      "Epoch 106/150\n",
      "5/5 [==============================] - 0s 9ms/step - loss: 5.8159e-04\n",
      "Epoch 107/150\n",
      "5/5 [==============================] - 0s 9ms/step - loss: 0.0011\n",
      "Epoch 108/150\n",
      "5/5 [==============================] - 0s 9ms/step - loss: 8.9067e-04\n",
      "Epoch 109/150\n",
      "5/5 [==============================] - 0s 8ms/step - loss: 7.2422e-04\n",
      "Epoch 110/150\n",
      "5/5 [==============================] - 0s 10ms/step - loss: 4.2738e-04\n",
      "Epoch 111/150\n",
      "5/5 [==============================] - 0s 9ms/step - loss: 0.0015\n",
      "Epoch 112/150\n",
      "5/5 [==============================] - 0s 10ms/step - loss: 6.7254e-04\n",
      "Epoch 113/150\n",
      "5/5 [==============================] - 0s 9ms/step - loss: 6.1097e-04\n",
      "Epoch 114/150\n",
      "5/5 [==============================] - 0s 8ms/step - loss: 0.0013\n",
      "Epoch 115/150\n",
      "5/5 [==============================] - 0s 9ms/step - loss: 0.0016\n",
      "Epoch 116/150\n",
      "5/5 [==============================] - 0s 9ms/step - loss: 0.0014\n",
      "Epoch 117/150\n",
      "5/5 [==============================] - 0s 8ms/step - loss: 6.4367e-04\n",
      "Epoch 118/150\n",
      "5/5 [==============================] - 0s 8ms/step - loss: 0.0012\n",
      "Epoch 119/150\n",
      "5/5 [==============================] - 0s 9ms/step - loss: 7.5793e-04\n",
      "Epoch 120/150\n",
      "5/5 [==============================] - 0s 9ms/step - loss: 6.0113e-04\n",
      "Epoch 121/150\n",
      "5/5 [==============================] - 0s 8ms/step - loss: 0.0012\n",
      "Epoch 122/150\n",
      "5/5 [==============================] - 0s 8ms/step - loss: 0.0012\n",
      "Epoch 123/150\n",
      "5/5 [==============================] - 0s 10ms/step - loss: 9.8379e-04\n",
      "Epoch 124/150\n",
      "5/5 [==============================] - 0s 8ms/step - loss: 5.3679e-04\n",
      "Epoch 125/150\n",
      "5/5 [==============================] - 0s 8ms/step - loss: 6.5271e-04\n",
      "Epoch 126/150\n",
      "5/5 [==============================] - 0s 9ms/step - loss: 9.2711e-04\n",
      "Epoch 127/150\n",
      "5/5 [==============================] - 0s 8ms/step - loss: 5.8945e-04\n",
      "Epoch 128/150\n",
      "5/5 [==============================] - 0s 8ms/step - loss: 4.8983e-04\n",
      "Epoch 129/150\n",
      "5/5 [==============================] - 0s 9ms/step - loss: 7.7608e-04\n",
      "Epoch 130/150\n",
      "5/5 [==============================] - 0s 8ms/step - loss: 4.9724e-04\n",
      "Epoch 131/150\n",
      "5/5 [==============================] - 0s 8ms/step - loss: 5.2828e-04\n",
      "Epoch 132/150\n",
      "5/5 [==============================] - 0s 9ms/step - loss: 5.6827e-04\n",
      "Epoch 133/150\n",
      "5/5 [==============================] - 0s 9ms/step - loss: 3.5714e-04\n",
      "Epoch 134/150\n",
      "5/5 [==============================] - 0s 9ms/step - loss: 4.3172e-04\n",
      "Epoch 135/150\n",
      "5/5 [==============================] - 0s 9ms/step - loss: 3.7420e-04\n",
      "Epoch 136/150\n",
      "5/5 [==============================] - 0s 8ms/step - loss: 2.6236e-04\n",
      "Epoch 137/150\n",
      "5/5 [==============================] - 0s 8ms/step - loss: 3.7128e-04\n",
      "Epoch 138/150\n",
      "5/5 [==============================] - 0s 9ms/step - loss: 6.4684e-04\n",
      "Epoch 139/150\n",
      "5/5 [==============================] - 0s 8ms/step - loss: 6.0456e-04\n",
      "Epoch 140/150\n",
      "5/5 [==============================] - 0s 8ms/step - loss: 2.2916e-04\n",
      "Epoch 141/150\n",
      "5/5 [==============================] - 0s 10ms/step - loss: 0.0016\n",
      "Epoch 142/150\n",
      "5/5 [==============================] - 0s 8ms/step - loss: 3.5755e-04\n",
      "Epoch 143/150\n",
      "5/5 [==============================] - 0s 8ms/step - loss: 7.5539e-04\n",
      "Epoch 144/150\n",
      "5/5 [==============================] - 0s 9ms/step - loss: 0.0014\n",
      "Epoch 145/150\n",
      "5/5 [==============================] - 0s 8ms/step - loss: 3.4222e-04\n",
      "Epoch 146/150\n",
      "5/5 [==============================] - 0s 8ms/step - loss: 7.2931e-04\n",
      "Epoch 147/150\n",
      "5/5 [==============================] - 0s 8ms/step - loss: 4.0242e-04\n",
      "Epoch 148/150\n",
      "5/5 [==============================] - 0s 8ms/step - loss: 5.1100e-04\n",
      "Epoch 149/150\n",
      "5/5 [==============================] - 0s 9ms/step - loss: 3.2725e-04\n",
      "Epoch 150/150\n",
      "5/5 [==============================] - 0s 8ms/step - loss: 2.1154e-04\n",
      "Accuracy score:  0.6739130434782609\n",
      "Precision score:  0.65625\n",
      "Recall score:  0.84\n"
     ]
    }
   ],
   "source": [
    "classifier = create_cnn()\n",
    "predictions = train_model(classifier, train_seq_x, y_train, valid_seq_x, is_neural_net=True)\n",
    "print('Accuracy score: ', metrics.accuracy_score(y_test, predictions))\n",
    "print('Precision score: ', metrics.precision_score(y_test, predictions))\n",
    "print('Recall score: ', metrics.recall_score(y_test, predictions))"
   ]
  },
  {
   "cell_type": "code",
   "execution_count": 52,
   "metadata": {},
   "outputs": [
    {
     "data": {
      "image/png": "[encoded data removed]",
      "text/plain": [
       "<Figure size 432x432 with 1 Axes>"
      ]
     },
     "metadata": {
      "needs_background": "light"
     },
     "output_type": "display_data"
    }
   ],
   "source": [
    "plot_confusion_matrix(y_test, predictions, \"CNN, GloVe (valid)\", \"CNN, GloVe (validation set)\")"
   ]
  },
  {
   "cell_type": "markdown",
   "metadata": {},
   "source": [
    "### Recurrent Neural Network"
   ]
  },
  {
   "cell_type": "code",
   "execution_count": 53,
   "metadata": {},
   "outputs": [],
   "source": [
    "def create_rnn_lstm():\n",
    "    # Add an Input Layer\n",
    "    input_layer = layers.Input((70, ))\n",
    "\n",
    "    # Add the word embedding Layer\n",
    "    embedding_layer = layers.Embedding(len(word_index) + 1, 300, weights=[embedding_matrix], trainable=False)(input_layer)\n",
    "    embedding_layer = layers.SpatialDropout1D(0.3)(embedding_layer)\n",
    "\n",
    "    # Add the LSTM Layer\n",
    "    lstm_layer = layers.LSTM(100)(embedding_layer)\n",
    "\n",
    "    # Add the output Layers\n",
    "    output_layer1 = layers.Dense(50, activation=\"relu\")(lstm_layer)\n",
    "    output_layer1 = layers.Dropout(0.25)(output_layer1)\n",
    "    output_layer2 = layers.Dense(1, activation=\"sigmoid\")(output_layer1)\n",
    "\n",
    "    # Compile the model\n",
    "    model = models.Model(inputs=input_layer, outputs=output_layer2)\n",
    "    model.compile(optimizer=optimizers.Adam(), loss='binary_crossentropy')\n",
    "    \n",
    "    return model"
   ]
  },
  {
   "cell_type": "code",
   "execution_count": 54,
   "metadata": {},
   "outputs": [
    {
     "name": "stdout",
     "output_type": "stream",
     "text": [
      "Epoch 1/150\n",
      "5/5 [==============================] - 2s 39ms/step - loss: 0.6799\n",
      "Epoch 2/150\n",
      "5/5 [==============================] - 0s 32ms/step - loss: 0.6685\n",
      "Epoch 3/150\n",
      "5/5 [==============================] - 0s 33ms/step - loss: 0.6408\n",
      "Epoch 4/150\n",
      "5/5 [==============================] - 0s 37ms/step - loss: 0.6135\n",
      "Epoch 5/150\n",
      "5/5 [==============================] - 0s 32ms/step - loss: 0.6015\n",
      "Epoch 6/150\n",
      "5/5 [==============================] - 0s 31ms/step - loss: 0.5591\n",
      "Epoch 7/150\n",
      "5/5 [==============================] - 0s 35ms/step - loss: 0.5049\n",
      "Epoch 8/150\n",
      "5/5 [==============================] - 0s 39ms/step - loss: 0.4755\n",
      "Epoch 9/150\n",
      "5/5 [==============================] - 0s 36ms/step - loss: 0.4833\n",
      "Epoch 10/150\n",
      "5/5 [==============================] - 0s 37ms/step - loss: 0.4134\n",
      "Epoch 11/150\n",
      "5/5 [==============================] - 0s 32ms/step - loss: 0.4240\n",
      "Epoch 12/150\n",
      "5/5 [==============================] - 0s 33ms/step - loss: 0.3667\n",
      "Epoch 13/150\n",
      "5/5 [==============================] - 0s 32ms/step - loss: 0.3675\n",
      "Epoch 14/150\n",
      "5/5 [==============================] - 0s 34ms/step - loss: 0.3553\n",
      "Epoch 15/150\n",
      "5/5 [==============================] - 0s 37ms/step - loss: 0.2447\n",
      "Epoch 16/150\n",
      "5/5 [==============================] - 0s 31ms/step - loss: 0.2069\n",
      "Epoch 17/150\n",
      "5/5 [==============================] - 0s 33ms/step - loss: 0.1942\n",
      "Epoch 18/150\n",
      "5/5 [==============================] - 0s 34ms/step - loss: 0.1901\n",
      "Epoch 19/150\n",
      "5/5 [==============================] - 0s 30ms/step - loss: 0.1653\n",
      "Epoch 20/150\n",
      "5/5 [==============================] - 0s 31ms/step - loss: 0.1364\n",
      "Epoch 21/150\n",
      "5/5 [==============================] - 0s 32ms/step - loss: 0.1211\n",
      "Epoch 22/150\n",
      "5/5 [==============================] - 0s 29ms/step - loss: 0.0930\n",
      "Epoch 23/150\n",
      "5/5 [==============================] - 0s 30ms/step - loss: 0.0581\n",
      "Epoch 24/150\n",
      "5/5 [==============================] - 0s 33ms/step - loss: 0.0975\n",
      "Epoch 25/150\n",
      "5/5 [==============================] - 0s 35ms/step - loss: 0.0495\n",
      "Epoch 26/150\n",
      "5/5 [==============================] - 0s 32ms/step - loss: 0.0790\n",
      "Epoch 27/150\n",
      "5/5 [==============================] - 0s 29ms/step - loss: 0.1105\n",
      "Epoch 28/150\n",
      "5/5 [==============================] - 0s 30ms/step - loss: 0.0582\n",
      "Epoch 29/150\n",
      "5/5 [==============================] - 0s 31ms/step - loss: 0.0904\n",
      "Epoch 30/150\n",
      "5/5 [==============================] - 0s 32ms/step - loss: 0.0318\n",
      "Epoch 31/150\n",
      "5/5 [==============================] - 0s 31ms/step - loss: 0.0558\n",
      "Epoch 32/150\n",
      "5/5 [==============================] - 0s 31ms/step - loss: 0.0451\n",
      "Epoch 33/150\n",
      "5/5 [==============================] - 0s 32ms/step - loss: 0.0745\n",
      "Epoch 34/150\n",
      "5/5 [==============================] - 0s 36ms/step - loss: 0.0259\n",
      "Epoch 35/150\n",
      "5/5 [==============================] - 0s 32ms/step - loss: 0.0844\n",
      "Epoch 36/150\n",
      "5/5 [==============================] - 0s 30ms/step - loss: 0.0268\n",
      "Epoch 37/150\n",
      "5/5 [==============================] - 0s 30ms/step - loss: 0.0212\n",
      "Epoch 38/150\n",
      "5/5 [==============================] - 0s 32ms/step - loss: 0.0213\n",
      "Epoch 39/150\n",
      "5/5 [==============================] - 0s 33ms/step - loss: 0.0131\n",
      "Epoch 40/150\n",
      "5/5 [==============================] - 0s 32ms/step - loss: 0.0215\n",
      "Epoch 41/150\n",
      "5/5 [==============================] - 0s 33ms/step - loss: 0.0072\n",
      "Epoch 42/150\n",
      "5/5 [==============================] - 0s 34ms/step - loss: 0.0183\n",
      "Epoch 43/150\n",
      "5/5 [==============================] - 0s 32ms/step - loss: 0.0116\n",
      "Epoch 44/150\n",
      "5/5 [==============================] - 0s 30ms/step - loss: 0.0143\n",
      "Epoch 45/150\n",
      "5/5 [==============================] - 0s 30ms/step - loss: 0.0195\n",
      "Epoch 46/150\n",
      "5/5 [==============================] - 0s 30ms/step - loss: 0.0285\n",
      "Epoch 47/150\n",
      "5/5 [==============================] - 0s 31ms/step - loss: 0.0149\n",
      "Epoch 48/150\n",
      "5/5 [==============================] - 0s 32ms/step - loss: 0.0455\n",
      "Epoch 49/150\n",
      "5/5 [==============================] - 0s 33ms/step - loss: 0.0137\n",
      "Epoch 50/150\n",
      "5/5 [==============================] - 0s 31ms/step - loss: 0.0128\n",
      "Epoch 51/150\n",
      "5/5 [==============================] - 0s 32ms/step - loss: 0.0080\n",
      "Epoch 52/150\n",
      "5/5 [==============================] - 0s 34ms/step - loss: 0.0068\n",
      "Epoch 53/150\n",
      "5/5 [==============================] - 0s 32ms/step - loss: 0.0058\n",
      "Epoch 54/150\n",
      "5/5 [==============================] - 0s 33ms/step - loss: 0.0087\n",
      "Epoch 55/150\n",
      "5/5 [==============================] - 0s 28ms/step - loss: 0.0045\n",
      "Epoch 56/150\n",
      "5/5 [==============================] - 0s 30ms/step - loss: 0.0056\n",
      "Epoch 57/150\n",
      "5/5 [==============================] - 0s 30ms/step - loss: 0.0030\n",
      "Epoch 58/150\n",
      "5/5 [==============================] - 0s 30ms/step - loss: 0.0034\n",
      "Epoch 59/150\n",
      "5/5 [==============================] - 0s 30ms/step - loss: 0.0066\n",
      "Epoch 60/150\n",
      "5/5 [==============================] - 0s 33ms/step - loss: 0.0117\n",
      "Epoch 61/150\n",
      "5/5 [==============================] - 0s 32ms/step - loss: 0.0043\n",
      "Epoch 62/150\n",
      "5/5 [==============================] - 0s 30ms/step - loss: 0.0052\n",
      "Epoch 63/150\n",
      "5/5 [==============================] - 0s 29ms/step - loss: 0.0030\n",
      "Epoch 64/150\n",
      "5/5 [==============================] - 0s 30ms/step - loss: 0.0062\n",
      "Epoch 65/150\n",
      "5/5 [==============================] - 0s 31ms/step - loss: 0.0019\n",
      "Epoch 66/150\n",
      "5/5 [==============================] - 0s 33ms/step - loss: 0.0017\n",
      "Epoch 67/150\n",
      "5/5 [==============================] - 0s 30ms/step - loss: 0.0035\n",
      "Epoch 68/150\n",
      "5/5 [==============================] - 0s 31ms/step - loss: 0.0392\n",
      "Epoch 69/150\n",
      "5/5 [==============================] - 0s 30ms/step - loss: 0.0074\n",
      "Epoch 70/150\n",
      "5/5 [==============================] - 0s 38ms/step - loss: 0.0081\n",
      "Epoch 71/150\n",
      "5/5 [==============================] - 0s 33ms/step - loss: 0.0051\n",
      "Epoch 72/150\n",
      "5/5 [==============================] - 0s 29ms/step - loss: 0.0027\n",
      "Epoch 73/150\n",
      "5/5 [==============================] - 0s 29ms/step - loss: 0.0135\n",
      "Epoch 74/150\n",
      "5/5 [==============================] - 0s 31ms/step - loss: 0.0274\n",
      "Epoch 75/150\n",
      "5/5 [==============================] - 0s 32ms/step - loss: 0.0144\n",
      "Epoch 76/150\n",
      "5/5 [==============================] - 0s 31ms/step - loss: 0.0469\n",
      "Epoch 77/150\n",
      "5/5 [==============================] - 0s 38ms/step - loss: 0.0072\n",
      "Epoch 78/150\n",
      "5/5 [==============================] - 0s 34ms/step - loss: 0.0080\n",
      "Epoch 79/150\n",
      "5/5 [==============================] - 0s 30ms/step - loss: 0.0067\n",
      "Epoch 80/150\n",
      "5/5 [==============================] - 0s 31ms/step - loss: 0.0051\n",
      "Epoch 81/150\n",
      "5/5 [==============================] - 0s 32ms/step - loss: 0.0038\n",
      "Epoch 82/150\n",
      "5/5 [==============================] - 0s 35ms/step - loss: 0.0101\n",
      "Epoch 83/150\n",
      "5/5 [==============================] - 0s 29ms/step - loss: 0.0067\n",
      "Epoch 84/150\n",
      "5/5 [==============================] - 0s 32ms/step - loss: 0.0273\n",
      "Epoch 85/150\n",
      "5/5 [==============================] - 0s 32ms/step - loss: 0.0044\n",
      "Epoch 86/150\n",
      "5/5 [==============================] - 0s 36ms/step - loss: 0.0035\n",
      "Epoch 87/150\n",
      "5/5 [==============================] - 0s 29ms/step - loss: 0.0037\n",
      "Epoch 88/150\n",
      "5/5 [==============================] - 0s 32ms/step - loss: 0.0094\n",
      "Epoch 89/150\n",
      "5/5 [==============================] - 0s 29ms/step - loss: 0.0044\n",
      "Epoch 90/150\n",
      "5/5 [==============================] - 0s 35ms/step - loss: 0.0015\n",
      "Epoch 91/150\n",
      "5/5 [==============================] - 0s 36ms/step - loss: 0.0033\n",
      "Epoch 92/150\n",
      "5/5 [==============================] - 0s 32ms/step - loss: 0.0068\n",
      "Epoch 93/150\n",
      "5/5 [==============================] - 0s 32ms/step - loss: 0.0039\n",
      "Epoch 94/150\n",
      "5/5 [==============================] - 0s 30ms/step - loss: 0.0015\n",
      "Epoch 95/150\n",
      "5/5 [==============================] - 0s 30ms/step - loss: 0.0021\n",
      "Epoch 96/150\n",
      "5/5 [==============================] - 0s 29ms/step - loss: 0.0017\n",
      "Epoch 97/150\n",
      "5/5 [==============================] - 0s 29ms/step - loss: 0.0019\n",
      "Epoch 98/150\n",
      "5/5 [==============================] - 0s 30ms/step - loss: 5.1741e-04\n",
      "Epoch 99/150\n",
      "5/5 [==============================] - 0s 32ms/step - loss: 0.0012\n",
      "Epoch 100/150\n",
      "5/5 [==============================] - 0s 31ms/step - loss: 9.4509e-04\n",
      "Epoch 101/150\n",
      "5/5 [==============================] - 0s 34ms/step - loss: 0.0103\n",
      "Epoch 102/150\n",
      "5/5 [==============================] - 0s 34ms/step - loss: 0.0016\n",
      "Epoch 103/150\n"
     ]
    },
    {
     "name": "stdout",
     "output_type": "stream",
     "text": [
      "5/5 [==============================] - 0s 32ms/step - loss: 0.0048\n",
      "Epoch 104/150\n",
      "5/5 [==============================] - 0s 31ms/step - loss: 0.0022\n",
      "Epoch 105/150\n",
      "5/5 [==============================] - 0s 30ms/step - loss: 0.0073\n",
      "Epoch 106/150\n",
      "5/5 [==============================] - 0s 30ms/step - loss: 0.0087\n",
      "Epoch 107/150\n",
      "5/5 [==============================] - 0s 31ms/step - loss: 6.0294e-04\n",
      "Epoch 108/150\n",
      "5/5 [==============================] - 0s 30ms/step - loss: 0.0015\n",
      "Epoch 109/150\n",
      "5/5 [==============================] - 0s 30ms/step - loss: 8.7736e-04\n",
      "Epoch 110/150\n",
      "5/5 [==============================] - 0s 31ms/step - loss: 0.0032\n",
      "Epoch 111/150\n",
      "5/5 [==============================] - 0s 29ms/step - loss: 3.3875e-04\n",
      "Epoch 112/150\n",
      "5/5 [==============================] - 0s 30ms/step - loss: 3.3875e-04\n",
      "Epoch 113/150\n",
      "5/5 [==============================] - 0s 29ms/step - loss: 7.0907e-04\n",
      "Epoch 114/150\n",
      "5/5 [==============================] - 0s 28ms/step - loss: 4.4539e-04\n",
      "Epoch 115/150\n",
      "5/5 [==============================] - 0s 30ms/step - loss: 5.8464e-04\n",
      "Epoch 116/150\n",
      "5/5 [==============================] - 0s 29ms/step - loss: 9.1981e-04\n",
      "Epoch 117/150\n",
      "5/5 [==============================] - 0s 31ms/step - loss: 0.0017\n",
      "Epoch 118/150\n",
      "5/5 [==============================] - 0s 29ms/step - loss: 6.6919e-04\n",
      "Epoch 119/150\n",
      "5/5 [==============================] - 0s 30ms/step - loss: 0.0043\n",
      "Epoch 120/150\n",
      "5/5 [==============================] - 0s 32ms/step - loss: 0.0010\n",
      "Epoch 121/150\n",
      "5/5 [==============================] - 0s 31ms/step - loss: 7.0985e-04\n",
      "Epoch 122/150\n",
      "5/5 [==============================] - 0s 28ms/step - loss: 6.0062e-04\n",
      "Epoch 123/150\n",
      "5/5 [==============================] - 0s 29ms/step - loss: 5.6912e-04\n",
      "Epoch 124/150\n",
      "5/5 [==============================] - 0s 30ms/step - loss: 0.0013\n",
      "Epoch 125/150\n",
      "5/5 [==============================] - 0s 28ms/step - loss: 7.5421e-04\n",
      "Epoch 126/150\n",
      "5/5 [==============================] - 0s 28ms/step - loss: 0.0030\n",
      "Epoch 127/150\n",
      "5/5 [==============================] - 0s 28ms/step - loss: 0.0011\n",
      "Epoch 128/150\n",
      "5/5 [==============================] - 0s 30ms/step - loss: 0.0012\n",
      "Epoch 129/150\n",
      "5/5 [==============================] - 0s 35ms/step - loss: 3.4966e-04\n",
      "Epoch 130/150\n",
      "5/5 [==============================] - 0s 31ms/step - loss: 3.1841e-04\n",
      "Epoch 131/150\n",
      "5/5 [==============================] - 0s 29ms/step - loss: 0.0011\n",
      "Epoch 132/150\n",
      "5/5 [==============================] - 0s 29ms/step - loss: 9.2144e-04\n",
      "Epoch 133/150\n",
      "5/5 [==============================] - 0s 31ms/step - loss: 4.3476e-04\n",
      "Epoch 134/150\n",
      "5/5 [==============================] - 0s 29ms/step - loss: 8.7334e-04\n",
      "Epoch 135/150\n",
      "5/5 [==============================] - 0s 31ms/step - loss: 0.0795\n",
      "Epoch 136/150\n",
      "5/5 [==============================] - 0s 30ms/step - loss: 0.0087\n",
      "Epoch 137/150\n",
      "5/5 [==============================] - 0s 31ms/step - loss: 0.0041\n",
      "Epoch 138/150\n",
      "5/5 [==============================] - 0s 35ms/step - loss: 0.0023\n",
      "Epoch 139/150\n",
      "5/5 [==============================] - 0s 30ms/step - loss: 0.0033\n",
      "Epoch 140/150\n",
      "5/5 [==============================] - 0s 30ms/step - loss: 0.0029\n",
      "Epoch 141/150\n",
      "5/5 [==============================] - 0s 30ms/step - loss: 0.0012\n",
      "Epoch 142/150\n",
      "5/5 [==============================] - 0s 29ms/step - loss: 6.7138e-04\n",
      "Epoch 143/150\n",
      "5/5 [==============================] - 0s 29ms/step - loss: 0.0125\n",
      "Epoch 144/150\n",
      "5/5 [==============================] - 0s 34ms/step - loss: 6.6307e-04\n",
      "Epoch 145/150\n",
      "5/5 [==============================] - 0s 29ms/step - loss: 8.4213e-04\n",
      "Epoch 146/150\n",
      "5/5 [==============================] - 0s 29ms/step - loss: 7.0163e-04\n",
      "Epoch 147/150\n",
      "5/5 [==============================] - 0s 29ms/step - loss: 0.0011\n",
      "Epoch 148/150\n",
      "5/5 [==============================] - 0s 29ms/step - loss: 0.0018\n",
      "Epoch 149/150\n",
      "5/5 [==============================] - 0s 30ms/step - loss: 0.0038\n",
      "Epoch 150/150\n",
      "5/5 [==============================] - 0s 34ms/step - loss: 0.0019\n",
      "Accuracy score:  0.45652173913043476\n",
      "Precision score:  0.5\n",
      "Recall score:  0.44\n"
     ]
    }
   ],
   "source": [
    "classifier = create_rnn_lstm()\n",
    "predictions = train_model(classifier, train_seq_x, y_train, valid_seq_x, is_neural_net=True)\n",
    "print('Accuracy score: ', metrics.accuracy_score(y_test, predictions))\n",
    "print('Precision score: ', metrics.precision_score(y_test, predictions))\n",
    "print('Recall score: ', metrics.recall_score(y_test, predictions))"
   ]
  },
  {
   "cell_type": "code",
   "execution_count": 55,
   "metadata": {},
   "outputs": [
    {
     "data": {
      "image/png": "[encoded data removed]",
      "text/plain": [
       "<Figure size 432x432 with 1 Axes>"
      ]
     },
     "metadata": {
      "needs_background": "light"
     },
     "output_type": "display_data"
    }
   ],
   "source": [
    "plot_confusion_matrix(y_test, predictions, \"RNN (LSTM), GloVe (valid)\", \"RNN (LSTM), GloVe (validation set)\")"
   ]
  },
  {
   "cell_type": "code",
   "execution_count": null,
   "metadata": {},
   "outputs": [],
   "source": []
  },
  {
   "cell_type": "code",
   "execution_count": null,
   "metadata": {},
   "outputs": [],
   "source": []
  },
  {
   "cell_type": "code",
   "execution_count": 56,
   "metadata": {},
   "outputs": [
    {
     "ename": "NameError",
     "evalue": "name 'all_words' is not defined",
     "output_type": "error",
     "traceback": [
      "\u001b[1;31m---------------------------------------------------------------------------\u001b[0m",
      "\u001b[1;31mNameError\u001b[0m                                 Traceback (most recent call last)",
      "\u001b[1;32m<ipython-input-56-27241853d0ae>\u001b[0m in \u001b[0;36m<module>\u001b[1;34m\u001b[0m\n\u001b[0;32m      1\u001b[0m \u001b[1;32mfrom\u001b[0m \u001b[0mgensim\u001b[0m\u001b[1;33m.\u001b[0m\u001b[0mmodels\u001b[0m \u001b[1;32mimport\u001b[0m \u001b[0mWord2Vec\u001b[0m\u001b[1;33m\u001b[0m\u001b[1;33m\u001b[0m\u001b[0m\n\u001b[1;32m----> 2\u001b[1;33m \u001b[0mword2vec\u001b[0m \u001b[1;33m=\u001b[0m \u001b[0mWord2Vec\u001b[0m\u001b[1;33m(\u001b[0m\u001b[0mall_words\u001b[0m\u001b[1;33m,\u001b[0m \u001b[0mmin_count\u001b[0m\u001b[1;33m=\u001b[0m\u001b[1;36m2\u001b[0m\u001b[1;33m)\u001b[0m\u001b[1;33m\u001b[0m\u001b[1;33m\u001b[0m\u001b[0m\n\u001b[0m",
      "\u001b[1;31mNameError\u001b[0m: name 'all_words' is not defined"
     ]
    }
   ],
   "source": [
    "from gensim.models import Word2Vec\n",
    "word2vec = Word2Vec(all_words, min_count=2)\n"
   ]
  },
  {
   "cell_type": "code",
   "execution_count": null,
   "metadata": {},
   "outputs": [],
   "source": []
  },
  {
   "cell_type": "code",
   "execution_count": null,
   "metadata": {},
   "outputs": [],
   "source": []
  },
  {
   "cell_type": "code",
   "execution_count": null,
   "metadata": {},
   "outputs": [],
   "source": []
  },
  {
   "cell_type": "code",
   "execution_count": null,
   "metadata": {},
   "outputs": [],
   "source": [
    "f = open(\"translation_texts/01\", encoding=\"utf8\").read()\n",
    "f = f.split('\\n')\n",
    "f = '\\n'.join(f[2:])\n",
    "sents = sent_tokenize(f)\n",
    "total_wc = 0\n",
    "for sent in sents:\n",
    "    print(sent)\n",
    "    wc = len(sent.split())\n",
    "    total_wc += wc\n",
    "    print(wc)"
   ]
  },
  {
   "cell_type": "code",
   "execution_count": null,
   "metadata": {},
   "outputs": [],
   "source": [
    "print(total_wc / len(sents))"
   ]
  },
  {
   "cell_type": "code",
   "execution_count": null,
   "metadata": {},
   "outputs": [],
   "source": []
  },
  {
   "cell_type": "code",
   "execution_count": null,
   "metadata": {},
   "outputs": [],
   "source": []
  },
  {
   "cell_type": "code",
   "execution_count": null,
   "metadata": {},
   "outputs": [],
   "source": []
  },
  {
   "cell_type": "code",
   "execution_count": null,
   "metadata": {},
   "outputs": [],
   "source": []
  },
  {
   "cell_type": "code",
   "execution_count": null,
   "metadata": {},
   "outputs": [],
   "source": []
  },
  {
   "cell_type": "code",
   "execution_count": null,
   "metadata": {},
   "outputs": [],
   "source": []
  },
  {
   "cell_type": "code",
   "execution_count": null,
   "metadata": {},
   "outputs": [],
   "source": []
  },
  {
   "cell_type": "code",
   "execution_count": null,
   "metadata": {},
   "outputs": [],
   "source": []
  },
  {
   "cell_type": "code",
   "execution_count": null,
   "metadata": {},
   "outputs": [],
   "source": []
  }
 ],
 "metadata": {
  "kernelspec": {
   "display_name": "env",
   "language": "python",
   "name": "env"
  },
  "language_info": {
   "codemirror_mode": {
    "name": "ipython",
    "version": 3
   },
   "file_extension": ".py",
   "mimetype": "text/x-python",
   "name": "python",
   "nbconvert_exporter": "python",
   "pygments_lexer": "ipython3",
   "version": "3.8.8"
  }
 },
 "nbformat": 4,
 "nbformat_minor": 4
}
